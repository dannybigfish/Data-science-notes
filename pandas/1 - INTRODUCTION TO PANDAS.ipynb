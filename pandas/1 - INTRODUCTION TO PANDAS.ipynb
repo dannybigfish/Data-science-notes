{
 "cells": [
  {
   "cell_type": "markdown",
   "id": "ready-revision",
   "metadata": {},
   "source": [
    "## INTRODUCTION TO PANDAS\n",
    "\n",
    "Pandas library is a framework built on top of NumPy for data processing and analysis in Python, it provides data structures and methods for representing and manipulating data. The Fundamental data structures in Pandas are: Series and DataFrame as well as a rich veriety of functions and methods that add functionality to the them. In this introduction we will explore the series object under the following subtopics:\n",
    "+ Series Object\n",
    "+ Creating a Series\n",
    "+ Attributes (commonly used)\n",
    "+ Indexing and Selecting Data in Series\n",
    "+ Boolean Selection \n",
    "+ Index Alingnment\n",
    "+ Binary Operation and Arithematics on Series\n",
    "+ Methods (commonly used)\n",
    "+ Conversion Operation on Series"
   ]
  },
  {
   "cell_type": "markdown",
   "id": "contained-partner",
   "metadata": {},
   "source": [
    "### Series Object\n",
    "Series is a one dimensional data structure in pandas containing an array of index labeled data. This means that the data has index labels that can be used to select items. This label is what distinguishes a NumPy array from a series. Before we proceed to create a series its important to note that the pandas library is imported as pd, this is done by convention. The fundamental way of creating a series object is by passing a sequence such as a list or an array to the Series function."
   ]
  },
  {
   "cell_type": "code",
   "execution_count": 1,
   "id": "entertaining-feeding",
   "metadata": {},
   "outputs": [],
   "source": [
    "import numpy as np\n",
    "import pandas as pd"
   ]
  },
  {
   "cell_type": "code",
   "execution_count": 2,
   "id": "intended-martin",
   "metadata": {},
   "outputs": [],
   "source": [
    "# Creating a series from a random NumPy array\n",
    "arr = np.random.randn(5)\n",
    "ser = pd.Series(arr)"
   ]
  },
  {
   "cell_type": "code",
   "execution_count": 3,
   "id": "radio-ceramic",
   "metadata": {},
   "outputs": [
    {
     "data": {
      "text/plain": [
       "array([-0.16757655,  0.18732864,  0.19434023,  0.70940664,  0.81573995])"
      ]
     },
     "execution_count": 3,
     "metadata": {},
     "output_type": "execute_result"
    }
   ],
   "source": [
    "# NumPy one dimensional array w/o index labels \n",
    "arr"
   ]
  },
  {
   "cell_type": "code",
   "execution_count": 4,
   "id": "curious-burden",
   "metadata": {},
   "outputs": [
    {
     "data": {
      "text/plain": [
       "0   -0.167577\n",
       "1    0.187329\n",
       "2    0.194340\n",
       "3    0.709407\n",
       "4    0.815740\n",
       "dtype: float64"
      ]
     },
     "execution_count": 4,
     "metadata": {},
     "output_type": "execute_result"
    }
   ],
   "source": [
    "# Series with index label\n",
    "ser"
   ]
  },
  {
   "cell_type": "code",
   "execution_count": 5,
   "id": "continent-ireland",
   "metadata": {},
   "outputs": [
    {
     "data": {
      "text/plain": [
       "-0.167576554672185"
      ]
     },
     "execution_count": 5,
     "metadata": {},
     "output_type": "execute_result"
    }
   ],
   "source": [
    "# Using the index label to access the data.\n",
    "ser[0]"
   ]
  },
  {
   "cell_type": "markdown",
   "id": "laughing-albert",
   "metadata": {},
   "source": [
    "### Creating a Series\n",
    "To create a Series you use the Series Function,below is the typical series function and its parameters\n",
    "\n",
    "**pd.Series(data=None, index=None, dtype=None, name=None)**  \n",
    "\n",
    "+ *data = Array, list, Dictionary, Scalar or an iterable.*\n",
    "+ *index = The labels to assign to the series data*\n",
    "+ *name = The name to assign to the series object*\n",
    "\n",
    "When creating a series from a dictionary The dictionary **Keys** match to become the index labels, while the **Values** make up the array of data."
   ]
  },
  {
   "cell_type": "code",
   "execution_count": 6,
   "id": "driving-questionnaire",
   "metadata": {},
   "outputs": [],
   "source": [
    "# Creating an Array\n",
    "arr  = np.arange(150,500,50)"
   ]
  },
  {
   "cell_type": "code",
   "execution_count": 7,
   "id": "herbal-relay",
   "metadata": {},
   "outputs": [],
   "source": [
    "# Creating a list\n",
    "label = list(\"tuvwxyz\")"
   ]
  },
  {
   "cell_type": "code",
   "execution_count": 8,
   "id": "genetic-record",
   "metadata": {},
   "outputs": [],
   "source": [
    "# Creating a dictionary\n",
    "dct = {\"a\":150,\"b\":200,\"c\":250,\"d\":300,\"e\":350,\"f\":400,\"g\":450}"
   ]
  },
  {
   "cell_type": "code",
   "execution_count": 9,
   "id": "painted-discipline",
   "metadata": {},
   "outputs": [],
   "source": [
    "lst = [10,20,30,40,50,60,70]"
   ]
  },
  {
   "cell_type": "code",
   "execution_count": 10,
   "id": "hispanic-commodity",
   "metadata": {},
   "outputs": [
    {
     "data": {
      "text/plain": [
       "10    150\n",
       "20    200\n",
       "30    250\n",
       "40    300\n",
       "50    350\n",
       "60    400\n",
       "70    450\n",
       "dtype: int32"
      ]
     },
     "execution_count": 10,
     "metadata": {},
     "output_type": "execute_result"
    }
   ],
   "source": [
    "# Series from NumPy Array\n",
    "pd.Series(data=arr,index=lst)"
   ]
  },
  {
   "cell_type": "code",
   "execution_count": 11,
   "id": "frequent-concentration",
   "metadata": {},
   "outputs": [
    {
     "data": {
      "text/plain": [
       "t    10\n",
       "u    20\n",
       "v    30\n",
       "w    40\n",
       "x    50\n",
       "y    60\n",
       "z    70\n",
       "dtype: int64"
      ]
     },
     "execution_count": 11,
     "metadata": {},
     "output_type": "execute_result"
    }
   ],
   "source": [
    "# Series from List\n",
    "pd.Series(data=lst, index=label)"
   ]
  },
  {
   "cell_type": "code",
   "execution_count": 12,
   "id": "three-housing",
   "metadata": {},
   "outputs": [
    {
     "data": {
      "text/plain": [
       "a    150\n",
       "b    200\n",
       "c    250\n",
       "d    300\n",
       "e    350\n",
       "f    400\n",
       "g    450\n",
       "dtype: int64"
      ]
     },
     "execution_count": 12,
     "metadata": {},
     "output_type": "execute_result"
    }
   ],
   "source": [
    "# Series from Dictionary\n",
    "ser = pd.Series(data=dct, index=list(\"abcdefg\"))\n",
    "ser"
   ]
  },
  {
   "cell_type": "code",
   "execution_count": 13,
   "id": "ongoing-ottawa",
   "metadata": {},
   "outputs": [
    {
     "data": {
      "text/plain": [
       "t   NaN\n",
       "u   NaN\n",
       "v   NaN\n",
       "w   NaN\n",
       "x   NaN\n",
       "y   NaN\n",
       "z   NaN\n",
       "dtype: float64"
      ]
     },
     "execution_count": 13,
     "metadata": {},
     "output_type": "execute_result"
    }
   ],
   "source": [
    "pd.Series(data=dct,index=label)"
   ]
  },
  {
   "cell_type": "markdown",
   "id": "classical-hayes",
   "metadata": {},
   "source": [
    "**NOTE** When the keys of the dictionary match with the Index values, the labels remain intact. However  when the keys and the index dont match you get a series of NaN, this is because  the Index is first built with the keys from the dictionary\n",
    "after which the Series is reindexed with the given Index values, hence we get all NaN as a result just like the last example."
   ]
  },
  {
   "cell_type": "markdown",
   "id": "renewable-debate",
   "metadata": {},
   "source": [
    "### Attributes (commonly used)"
   ]
  },
  {
   "cell_type": "code",
   "execution_count": 14,
   "id": "published-category",
   "metadata": {},
   "outputs": [
    {
     "data": {
      "text/plain": [
       "array([150, 200, 250, 300, 350, 400, 450], dtype=int64)"
      ]
     },
     "execution_count": 14,
     "metadata": {},
     "output_type": "execute_result"
    }
   ],
   "source": [
    "# Series are similar to Arrays \n",
    "ser.values"
   ]
  },
  {
   "cell_type": "code",
   "execution_count": 15,
   "id": "linear-timeline",
   "metadata": {},
   "outputs": [
    {
     "data": {
      "text/plain": [
       "Index(['a', 'b', 'c', 'd', 'e', 'f', 'g'], dtype='object')"
      ]
     },
     "execution_count": 15,
     "metadata": {},
     "output_type": "execute_result"
    }
   ],
   "source": [
    "# Accessing the index labels \n",
    "ser.keys()"
   ]
  },
  {
   "cell_type": "code",
   "execution_count": 16,
   "id": "located-dollar",
   "metadata": {},
   "outputs": [
    {
     "data": {
      "text/plain": [
       "Index(['a', 'b', 'c', 'd', 'e', 'f', 'g'], dtype='object')"
      ]
     },
     "execution_count": 16,
     "metadata": {},
     "output_type": "execute_result"
    }
   ],
   "source": [
    "# Formal way of accessing the index labels \n",
    "ser.index"
   ]
  },
  {
   "cell_type": "code",
   "execution_count": 17,
   "id": "matched-leonard",
   "metadata": {},
   "outputs": [
    {
     "data": {
      "text/plain": [
       "[('a', 150),\n",
       " ('b', 200),\n",
       " ('c', 250),\n",
       " ('d', 300),\n",
       " ('e', 350),\n",
       " ('f', 400),\n",
       " ('g', 450)]"
      ]
     },
     "execution_count": 17,
     "metadata": {},
     "output_type": "execute_result"
    }
   ],
   "source": [
    "# Accessing the items in a series object\n",
    "list(ser.items())"
   ]
  },
  {
   "cell_type": "code",
   "execution_count": 18,
   "id": "working-resistance",
   "metadata": {},
   "outputs": [
    {
     "data": {
      "text/plain": [
       "7"
      ]
     },
     "execution_count": 18,
     "metadata": {},
     "output_type": "execute_result"
    }
   ],
   "source": [
    "# Calling array methods of series - size\n",
    "ser.size"
   ]
  },
  {
   "cell_type": "code",
   "execution_count": 19,
   "id": "proved-passage",
   "metadata": {},
   "outputs": [
    {
     "data": {
      "text/plain": [
       "(7,)"
      ]
     },
     "execution_count": 19,
     "metadata": {},
     "output_type": "execute_result"
    }
   ],
   "source": [
    "# Calling array methods of series - shape \n",
    "ser.shape"
   ]
  },
  {
   "cell_type": "code",
   "execution_count": 20,
   "id": "united-upper",
   "metadata": {},
   "outputs": [
    {
     "data": {
      "text/plain": [
       "1"
      ]
     },
     "execution_count": 20,
     "metadata": {},
     "output_type": "execute_result"
    }
   ],
   "source": [
    "# Calling array methods of series - dimensions\n",
    "ser.ndim"
   ]
  },
  {
   "cell_type": "code",
   "execution_count": 21,
   "id": "identified-cross",
   "metadata": {},
   "outputs": [
    {
     "data": {
      "text/plain": [
       "dtype('int64')"
      ]
     },
     "execution_count": 21,
     "metadata": {},
     "output_type": "execute_result"
    }
   ],
   "source": [
    "# Calling array methods of series - data type\n",
    "ser.dtype"
   ]
  },
  {
   "cell_type": "markdown",
   "id": "remarkable-manufacturer",
   "metadata": {},
   "source": [
    "### Indexing and Selecting Data in Series\n",
    "We saw situations where we used dictionary like syntax (such as keys, values, items) to access values in the series object, this dioctionary like behaviour can be extended to element selection. firstly, its important to note that we can modify (add an elemet to a series) by accessing a non existent key like it exists and assigning a value to it."
   ]
  },
  {
   "cell_type": "code",
   "execution_count": 22,
   "id": "acquired-actress",
   "metadata": {},
   "outputs": [
    {
     "data": {
      "text/plain": [
       "a    150\n",
       "b    200\n",
       "c    250\n",
       "d    300\n",
       "e    350\n",
       "f    400\n",
       "g    450\n",
       "dtype: int64"
      ]
     },
     "execution_count": 22,
     "metadata": {},
     "output_type": "execute_result"
    }
   ],
   "source": [
    "ser"
   ]
  },
  {
   "cell_type": "code",
   "execution_count": 23,
   "id": "exact-greene",
   "metadata": {},
   "outputs": [
    {
     "data": {
      "text/plain": [
       "a    150.0\n",
       "b    200.0\n",
       "c    250.0\n",
       "d    300.0\n",
       "e    350.0\n",
       "f    400.0\n",
       "g    450.0\n",
       "y      NaN\n",
       "z     10.0\n",
       "dtype: float64"
      ]
     },
     "execution_count": 23,
     "metadata": {},
     "output_type": "execute_result"
    }
   ],
   "source": [
    "# Assigning values like they exist\n",
    "ser[\"y\"], ser[\"z\"] = np.nan, 10\n",
    "\n",
    "ser"
   ]
  },
  {
   "cell_type": "code",
   "execution_count": 24,
   "id": "faced-pennsylvania",
   "metadata": {},
   "outputs": [
    {
     "data": {
      "text/plain": [
       "150.0"
      ]
     },
     "execution_count": 24,
     "metadata": {},
     "output_type": "execute_result"
    }
   ],
   "source": [
    "# Selecting individual elements by keys\n",
    "ser[\"a\"]"
   ]
  },
  {
   "cell_type": "code",
   "execution_count": 25,
   "id": "exclusive-following",
   "metadata": {},
   "outputs": [
    {
     "data": {
      "text/plain": [
       "b    200.0\n",
       "c    250.0\n",
       "d    300.0\n",
       "e    350.0\n",
       "dtype: float64"
      ]
     },
     "execution_count": 25,
     "metadata": {},
     "output_type": "execute_result"
    }
   ],
   "source": [
    "# Slicing  elements by key  (the end element is included)\n",
    "ser[\"b\":\"e\"]"
   ]
  },
  {
   "cell_type": "code",
   "execution_count": 26,
   "id": "funny-disney",
   "metadata": {},
   "outputs": [
    {
     "data": {
      "text/plain": [
       "150.0"
      ]
     },
     "execution_count": 26,
     "metadata": {},
     "output_type": "execute_result"
    }
   ],
   "source": [
    "# selecting individual element by index position\n",
    "ser[0]"
   ]
  },
  {
   "cell_type": "code",
   "execution_count": 27,
   "id": "normal-story",
   "metadata": {},
   "outputs": [
    {
     "data": {
      "text/plain": [
       "b    200.0\n",
       "c    250.0\n",
       "d    300.0\n",
       "e    350.0\n",
       "dtype: float64"
      ]
     },
     "execution_count": 27,
     "metadata": {},
     "output_type": "execute_result"
    }
   ],
   "source": [
    "# Slicing elements by index position (end element excluded)\n",
    "ser[1:5]"
   ]
  },
  {
   "cell_type": "code",
   "execution_count": 28,
   "id": "traditional-bristol",
   "metadata": {},
   "outputs": [
    {
     "data": {
      "text/plain": [
       "a    150.0\n",
       "d    300.0\n",
       "f    400.0\n",
       "g    450.0\n",
       "dtype: float64"
      ]
     },
     "execution_count": 28,
     "metadata": {},
     "output_type": "execute_result"
    }
   ],
   "source": [
    "# Using fancy indexing to select elements \n",
    "ser[[\"a\",\"d\",\"f\",\"g\"]]"
   ]
  },
  {
   "cell_type": "markdown",
   "id": "representative-laser",
   "metadata": {},
   "source": [
    "**NOTE** \n",
    "From the above examples we saw that the index could be explicit (alphabets labels) or implicit (integer index position). Pandas provides 3 Indexers for this purpose. \n",
    "+ **Series.loc[]**  *This is used for the explicit case where we have well definded index labels*\n",
    "+ **Series.iloc[]**  *This is used for the implicit case where we use the index integer location*\n"
   ]
  },
  {
   "cell_type": "code",
   "execution_count": 29,
   "id": "blind-synthesis",
   "metadata": {},
   "outputs": [
    {
     "data": {
      "text/plain": [
       "pandas.core.series.Series"
      ]
     },
     "execution_count": 29,
     "metadata": {},
     "output_type": "execute_result"
    }
   ],
   "source": [
    "type(ser)"
   ]
  },
  {
   "cell_type": "code",
   "execution_count": 44,
   "id": "exact-square",
   "metadata": {},
   "outputs": [
    {
     "data": {
      "text/plain": [
       "b    200.0\n",
       "c    250.0\n",
       "d    300.0\n",
       "e    350.0\n",
       "dtype: float64"
      ]
     },
     "execution_count": 44,
     "metadata": {},
     "output_type": "execute_result"
    }
   ],
   "source": [
    "# Using explicit index labels \n",
    "ser.loc[\"b\":\"e\"]"
   ]
  },
  {
   "cell_type": "code",
   "execution_count": 45,
   "id": "norman-balance",
   "metadata": {},
   "outputs": [
    {
     "data": {
      "text/plain": [
       "b    200.0\n",
       "c    250.0\n",
       "d    300.0\n",
       "e    350.0\n",
       "dtype: float64"
      ]
     },
     "execution_count": 45,
     "metadata": {},
     "output_type": "execute_result"
    }
   ],
   "source": [
    "# Using implicit index positions\n",
    "ser.iloc[1:5]"
   ]
  },
  {
   "cell_type": "markdown",
   "id": "deluxe-diagram",
   "metadata": {},
   "source": [
    "### Boolean Selection\n",
    "Similar to boolean selection done in NumPy we can use booleans to filter out or select data based on some specified conditions, This is done by using a conpairson operator to compare a series to a value, multiple conditions can be specified. The process is similar to boolean selection in NumPy, lets explore boolean selection:"
   ]
  },
  {
   "cell_type": "code",
   "execution_count": 46,
   "id": "iraqi-stone",
   "metadata": {},
   "outputs": [
    {
     "data": {
      "text/plain": [
       "a    5000.0\n",
       "b     200.0\n",
       "c     250.0\n",
       "d     300.0\n",
       "e     350.0\n",
       "f     400.0\n",
       "g     450.0\n",
       "y       NaN\n",
       "z    5000.0\n",
       "dtype: float64"
      ]
     },
     "execution_count": 46,
     "metadata": {},
     "output_type": "execute_result"
    }
   ],
   "source": [
    "ser"
   ]
  },
  {
   "cell_type": "code",
   "execution_count": 47,
   "id": "bound-hours",
   "metadata": {},
   "outputs": [
    {
     "data": {
      "text/plain": [
       "a     True\n",
       "b    False\n",
       "c    False\n",
       "d     True\n",
       "e     True\n",
       "f     True\n",
       "g     True\n",
       "y    False\n",
       "z     True\n",
       "dtype: bool"
      ]
     },
     "execution_count": 47,
     "metadata": {},
     "output_type": "execute_result"
    }
   ],
   "source": [
    "# Compairing a series to a value, returns a boolean series.\n",
    "ser > 280"
   ]
  },
  {
   "cell_type": "code",
   "execution_count": 48,
   "id": "chief-first",
   "metadata": {},
   "outputs": [
    {
     "data": {
      "text/plain": [
       "a    False\n",
       "b     True\n",
       "c     True\n",
       "d     True\n",
       "e    False\n",
       "f    False\n",
       "g    False\n",
       "y    False\n",
       "z    False\n",
       "dtype: bool"
      ]
     },
     "execution_count": 48,
     "metadata": {},
     "output_type": "execute_result"
    }
   ],
   "source": [
    "# Compairing a series to a value, returns a boolean series\n",
    "ser <= 300"
   ]
  },
  {
   "cell_type": "code",
   "execution_count": 49,
   "id": "swiss-services",
   "metadata": {},
   "outputs": [
    {
     "data": {
      "text/plain": [
       "a    5000.0\n",
       "d     300.0\n",
       "e     350.0\n",
       "f     400.0\n",
       "g     450.0\n",
       "z    5000.0\n",
       "dtype: float64"
      ]
     },
     "execution_count": 49,
     "metadata": {},
     "output_type": "execute_result"
    }
   ],
   "source": [
    "# Masking the boolean series to the main series.\n",
    "ser[ser > 280]"
   ]
  },
  {
   "cell_type": "code",
   "execution_count": 50,
   "id": "verbal-ending",
   "metadata": {},
   "outputs": [
    {
     "data": {
      "text/plain": [
       "b    200.0\n",
       "c    250.0\n",
       "d    300.0\n",
       "dtype: float64"
      ]
     },
     "execution_count": 50,
     "metadata": {},
     "output_type": "execute_result"
    }
   ],
   "source": [
    "# Masking the boolean series to the main series.\n",
    "ser[ser <= 300]"
   ]
  },
  {
   "cell_type": "code",
   "execution_count": 51,
   "id": "automatic-edinburgh",
   "metadata": {},
   "outputs": [
    {
     "data": {
      "text/plain": [
       "c    250.0\n",
       "d    300.0\n",
       "e    350.0\n",
       "f    400.0\n",
       "g    450.0\n",
       "dtype: float64"
      ]
     },
     "execution_count": 51,
     "metadata": {},
     "output_type": "execute_result"
    }
   ],
   "source": [
    "# Multiple conditions \n",
    "ser[(ser > 200) & (ser <= 500)]"
   ]
  },
  {
   "cell_type": "code",
   "execution_count": 52,
   "id": "indonesian-control",
   "metadata": {},
   "outputs": [
    {
     "data": {
      "text/plain": [
       "a    5000.0\n",
       "z    5000.0\n",
       "dtype: float64"
      ]
     },
     "execution_count": 52,
     "metadata": {},
     "output_type": "execute_result"
    }
   ],
   "source": [
    "# Multiple conditions \n",
    "ser[(ser < 200) | (ser > 500)]"
   ]
  },
  {
   "cell_type": "code",
   "execution_count": 53,
   "id": "regulation-chassis",
   "metadata": {},
   "outputs": [],
   "source": [
    "# Reassigning  a selected value \n",
    "ser[ser < 200] = 5000"
   ]
  },
  {
   "cell_type": "code",
   "execution_count": 54,
   "id": "vertical-updating",
   "metadata": {},
   "outputs": [
    {
     "data": {
      "text/plain": [
       "a    5000.0\n",
       "b     200.0\n",
       "c     250.0\n",
       "d     300.0\n",
       "e     350.0\n",
       "f     400.0\n",
       "g     450.0\n",
       "y       NaN\n",
       "z    5000.0\n",
       "dtype: float64"
      ]
     },
     "execution_count": 54,
     "metadata": {},
     "output_type": "execute_result"
    }
   ],
   "source": [
    "ser"
   ]
  },
  {
   "cell_type": "markdown",
   "id": "vocal-witness",
   "metadata": {},
   "source": [
    "#### Index Alingnment"
   ]
  },
  {
   "cell_type": "markdown",
   "id": "textile-helicopter",
   "metadata": {},
   "source": [
    "An important feature of Pandas Series object is its behaviour during arithemeatic computations between series objects with different indexes, when adding or carrying out any arithematic computations, if any pair of index match the arithematic proceedes on that pair of indices, but when the indices dont match the internal data alingnment process introduces NaN values and propagates it to the result. lets explore this behaviour: "
   ]
  },
  {
   "cell_type": "code",
   "execution_count": 55,
   "id": "alike-block",
   "metadata": {},
   "outputs": [],
   "source": [
    "cost = {\"book\": 20, \"pen\":30, \"bag\":50, \"razor\":7,\"cup\":11}"
   ]
  },
  {
   "cell_type": "code",
   "execution_count": 56,
   "id": "inclusive-ethics",
   "metadata": {},
   "outputs": [],
   "source": [
    "unit= {\"brush\":5, \"pen\":3, \"book\":5,\"spoon\":2,\"razor\":6,\"knife\":4}"
   ]
  },
  {
   "cell_type": "code",
   "execution_count": 57,
   "id": "endangered-federal",
   "metadata": {},
   "outputs": [],
   "source": [
    "ser1 = pd.Series(cost)\n",
    "ser2 = pd.Series(unit)"
   ]
  },
  {
   "cell_type": "code",
   "execution_count": 58,
   "id": "received-grain",
   "metadata": {},
   "outputs": [
    {
     "data": {
      "text/plain": [
       "book     20\n",
       "pen      30\n",
       "bag      50\n",
       "razor     7\n",
       "cup      11\n",
       "dtype: int64"
      ]
     },
     "execution_count": 58,
     "metadata": {},
     "output_type": "execute_result"
    }
   ],
   "source": [
    "ser1\n"
   ]
  },
  {
   "cell_type": "code",
   "execution_count": 59,
   "id": "neither-burner",
   "metadata": {},
   "outputs": [
    {
     "data": {
      "text/plain": [
       "brush    5\n",
       "pen      3\n",
       "book     5\n",
       "spoon    2\n",
       "razor    6\n",
       "knife    4\n",
       "dtype: int64"
      ]
     },
     "execution_count": 59,
     "metadata": {},
     "output_type": "execute_result"
    }
   ],
   "source": [
    "ser2"
   ]
  },
  {
   "cell_type": "code",
   "execution_count": 60,
   "id": "acoustic-acquisition",
   "metadata": {},
   "outputs": [
    {
     "data": {
      "text/plain": [
       "bag       NaN\n",
       "book     25.0\n",
       "brush     NaN\n",
       "cup       NaN\n",
       "knife     NaN\n",
       "pen      33.0\n",
       "razor    13.0\n",
       "spoon     NaN\n",
       "dtype: float64"
      ]
     },
     "execution_count": 60,
     "metadata": {},
     "output_type": "execute_result"
    }
   ],
   "source": [
    "# indices with no match are replace with NaN\n",
    "ser1  + ser2"
   ]
  },
  {
   "cell_type": "code",
   "execution_count": 61,
   "id": "lyric-danish",
   "metadata": {},
   "outputs": [
    {
     "data": {
      "text/plain": [
       "bag      73.6\n",
       "book     25.0\n",
       "brush    28.6\n",
       "cup      34.6\n",
       "knife    27.6\n",
       "pen      33.0\n",
       "razor    13.0\n",
       "spoon    25.6\n",
       "dtype: float64"
      ]
     },
     "execution_count": 61,
     "metadata": {},
     "output_type": "execute_result"
    }
   ],
   "source": [
    "# Filling NA with the mean\n",
    "ser1.add(ser2,fill_value=ser1.mean())"
   ]
  },
  {
   "cell_type": "markdown",
   "id": "proof-cheat",
   "metadata": {},
   "source": [
    "### Binary Operation and Arithematics on Series\n",
    "As earlier said for binary operations on two series, Pandas will align the indices in the process of performing the operation. \n",
    "It is interesting to note that NumPy Universal functions can be applied to pandas series objects and the result will be another pandas object with the indices preserved. We can perform binary operation on series like addition, subtraction and many other operation.Pandas can also perform aggregation operations on series. There are alos functions available for such arithematics:\n",
    "\n",
    "Python Operator | Pandas Method\n",
    ":- | :-\n",
    "+ | add()\n",
    "- | sub(),subtract()\n",
    "* | mul(), multiply()\n",
    "/ | truediv(), div(),divide()\n",
    "//| floordiv()\n",
    "% | mod()\n",
    "**| pow()"
   ]
  },
  {
   "cell_type": "code",
   "execution_count": 62,
   "id": "exclusive-shore",
   "metadata": {},
   "outputs": [
    {
     "data": {
      "text/plain": [
       "PH       100\n",
       "LAGOS    200\n",
       "KANO     300\n",
       "JOS      400\n",
       "dtype: int64"
      ]
     },
     "execution_count": 62,
     "metadata": {},
     "output_type": "execute_result"
    }
   ],
   "source": [
    "a = pd.Series([100,200,300,400],index=[\"PH\",\"LAGOS\",\"KANO\",\"JOS\"])\n",
    "a"
   ]
  },
  {
   "cell_type": "code",
   "execution_count": 63,
   "id": "covered-newport",
   "metadata": {},
   "outputs": [
    {
     "data": {
      "text/plain": [
       "PH       500\n",
       "LAGOS    600\n",
       "KANO     700\n",
       "JOS      800\n",
       "dtype: int64"
      ]
     },
     "execution_count": 63,
     "metadata": {},
     "output_type": "execute_result"
    }
   ],
   "source": [
    "b = pd.Series([500,600,700,800],index=[\"PH\",\"LAGOS\",\"KANO\",\"JOS\"])\n",
    "b"
   ]
  },
  {
   "cell_type": "code",
   "execution_count": 64,
   "id": "strategic-investment",
   "metadata": {},
   "outputs": [
    {
     "data": {
      "text/plain": [
       "PH        600\n",
       "LAGOS     800\n",
       "KANO     1000\n",
       "JOS      1200\n",
       "dtype: int64"
      ]
     },
     "execution_count": 64,
     "metadata": {},
     "output_type": "execute_result"
    }
   ],
   "source": [
    "# Adding two series\n",
    "a + b"
   ]
  },
  {
   "cell_type": "code",
   "execution_count": 65,
   "id": "tropical-entertainment",
   "metadata": {},
   "outputs": [
    {
     "data": {
      "text/plain": [
       "PH       0.200000\n",
       "LAGOS    0.333333\n",
       "KANO     0.428571\n",
       "JOS      0.500000\n",
       "dtype: float64"
      ]
     },
     "execution_count": 65,
     "metadata": {},
     "output_type": "execute_result"
    }
   ],
   "source": [
    "# Division\n",
    "a / b"
   ]
  },
  {
   "cell_type": "code",
   "execution_count": 66,
   "id": "revised-adams",
   "metadata": {},
   "outputs": [
    {
     "data": {
      "text/plain": [
       "PH        50000\n",
       "LAGOS    120000\n",
       "KANO     210000\n",
       "JOS      320000\n",
       "dtype: int64"
      ]
     },
     "execution_count": 66,
     "metadata": {},
     "output_type": "execute_result"
    }
   ],
   "source": [
    "# Multiplication\n",
    "a * b"
   ]
  },
  {
   "cell_type": "code",
   "execution_count": 67,
   "id": "transparent-myrtle",
   "metadata": {},
   "outputs": [
    {
     "data": {
      "text/plain": [
       "PH        600\n",
       "LAGOS     800\n",
       "KANO     1000\n",
       "JOS      1200\n",
       "dtype: int64"
      ]
     },
     "execution_count": 67,
     "metadata": {},
     "output_type": "execute_result"
    }
   ],
   "source": [
    "# Using NumPy Ufunc\n",
    "np.add(a,b)"
   ]
  },
  {
   "cell_type": "code",
   "execution_count": 68,
   "id": "hydraulic-globe",
   "metadata": {},
   "outputs": [
    {
     "data": {
      "text/plain": [
       "PH        600\n",
       "LAGOS     800\n",
       "KANO     1000\n",
       "JOS      1200\n",
       "dtype: int64"
      ]
     },
     "execution_count": 68,
     "metadata": {},
     "output_type": "execute_result"
    }
   ],
   "source": [
    "# Addition method off series object\n",
    "a.add(b)"
   ]
  },
  {
   "cell_type": "code",
   "execution_count": 69,
   "id": "buried-bridal",
   "metadata": {},
   "outputs": [
    {
     "data": {
      "text/plain": [
       "PH        10000\n",
       "LAGOS     40000\n",
       "KANO      90000\n",
       "JOS      160000\n",
       "dtype: int64"
      ]
     },
     "execution_count": 69,
     "metadata": {},
     "output_type": "execute_result"
    }
   ],
   "source": [
    "# Power method off series object.\n",
    "a.pow(2)"
   ]
  },
  {
   "cell_type": "code",
   "execution_count": 70,
   "id": "federal-vocabulary",
   "metadata": {},
   "outputs": [
    {
     "data": {
      "text/plain": [
       "1000"
      ]
     },
     "execution_count": 70,
     "metadata": {},
     "output_type": "execute_result"
    }
   ],
   "source": [
    "# Sum\n",
    "a.sum()"
   ]
  },
  {
   "cell_type": "code",
   "execution_count": 71,
   "id": "chronic-salmon",
   "metadata": {},
   "outputs": [
    {
     "data": {
      "text/plain": [
       "650.0"
      ]
     },
     "execution_count": 71,
     "metadata": {},
     "output_type": "execute_result"
    }
   ],
   "source": [
    "# Mean\n",
    "b.mean()"
   ]
  },
  {
   "cell_type": "code",
   "execution_count": 72,
   "id": "agreed-scroll",
   "metadata": {},
   "outputs": [
    {
     "data": {
      "text/plain": [
       "400"
      ]
     },
     "execution_count": 72,
     "metadata": {},
     "output_type": "execute_result"
    }
   ],
   "source": [
    "# Max\n",
    "a.max()"
   ]
  },
  {
   "cell_type": "code",
   "execution_count": 73,
   "id": "assigned-penetration",
   "metadata": {},
   "outputs": [
    {
     "data": {
      "text/plain": [
       "129.09944487358058"
      ]
     },
     "execution_count": 73,
     "metadata": {},
     "output_type": "execute_result"
    }
   ],
   "source": [
    "#standard deviation\n",
    "b.std()"
   ]
  },
  {
   "cell_type": "markdown",
   "id": "white-norman",
   "metadata": {},
   "source": [
    "### Methods (commonly used)"
   ]
  },
  {
   "cell_type": "code",
   "execution_count": 74,
   "id": "average-newton",
   "metadata": {},
   "outputs": [
    {
     "data": {
      "text/plain": [
       "array([5000.,  200.,  250.,  300.,  350.,  400.,  450.,   nan])"
      ]
     },
     "execution_count": 74,
     "metadata": {},
     "output_type": "execute_result"
    }
   ],
   "source": [
    "# Checking for unique elements\n",
    "ser.unique()"
   ]
  },
  {
   "cell_type": "code",
   "execution_count": 75,
   "id": "organizational-harrison",
   "metadata": {},
   "outputs": [
    {
     "data": {
      "text/plain": [
       "False"
      ]
     },
     "execution_count": 75,
     "metadata": {},
     "output_type": "execute_result"
    }
   ],
   "source": [
    "# Checking if the series has unique elements\n",
    "ser.is_unique"
   ]
  },
  {
   "cell_type": "code",
   "execution_count": 76,
   "id": "heavy-tunisia",
   "metadata": {},
   "outputs": [
    {
     "data": {
      "text/plain": [
       "a    False\n",
       "b    False\n",
       "c    False\n",
       "d    False\n",
       "e    False\n",
       "f    False\n",
       "g    False\n",
       "y     True\n",
       "z    False\n",
       "dtype: bool"
      ]
     },
     "execution_count": 76,
     "metadata": {},
     "output_type": "execute_result"
    }
   ],
   "source": [
    "# Checking for null values \n",
    "ser.isnull()"
   ]
  },
  {
   "cell_type": "code",
   "execution_count": 77,
   "id": "civic-crisis",
   "metadata": {},
   "outputs": [
    {
     "data": {
      "text/plain": [
       "a    False\n",
       "b    False\n",
       "c    False\n",
       "d    False\n",
       "e    False\n",
       "f    False\n",
       "g    False\n",
       "y     True\n",
       "z    False\n",
       "dtype: bool"
      ]
     },
     "execution_count": 77,
     "metadata": {},
     "output_type": "execute_result"
    }
   ],
   "source": [
    "# checkingh for NaN\n",
    "ser.isna()"
   ]
  },
  {
   "cell_type": "code",
   "execution_count": 78,
   "id": "baking-college",
   "metadata": {},
   "outputs": [
    {
     "data": {
      "text/plain": [
       "8"
      ]
     },
     "execution_count": 78,
     "metadata": {},
     "output_type": "execute_result"
    }
   ],
   "source": [
    "# counting elements in a ser\n",
    "ser.count()"
   ]
  },
  {
   "cell_type": "code",
   "execution_count": 79,
   "id": "interim-shopping",
   "metadata": {},
   "outputs": [
    {
     "data": {
      "text/plain": [
       "count       8.000000\n",
       "mean     1493.750000\n",
       "std      2165.548017\n",
       "min       200.000000\n",
       "25%       287.500000\n",
       "50%       375.000000\n",
       "75%      1587.500000\n",
       "max      5000.000000\n",
       "dtype: float64"
      ]
     },
     "execution_count": 79,
     "metadata": {},
     "output_type": "execute_result"
    }
   ],
   "source": [
    "# Statistics on the series\n",
    "ser.describe()"
   ]
  },
  {
   "cell_type": "code",
   "execution_count": 61,
   "id": "smart-steps",
   "metadata": {},
   "outputs": [
    {
     "data": {
      "text/plain": [
       "Index(['a', 'b', 'c', 'd', 'e', 'f', 'g', 'y', 'z'], dtype='object', name='series1')"
      ]
     },
     "execution_count": 61,
     "metadata": {},
     "output_type": "execute_result"
    }
   ],
   "source": [
    "# Changing properties of a series\n",
    "ser.index.name = \"series1\"\n",
    "ser.index"
   ]
  }
 ],
 "metadata": {
  "kernelspec": {
   "display_name": "Python 3",
   "language": "python",
   "name": "python3"
  },
  "language_info": {
   "codemirror_mode": {
    "name": "ipython",
    "version": 3
   },
   "file_extension": ".py",
   "mimetype": "text/x-python",
   "name": "python",
   "nbconvert_exporter": "python",
   "pygments_lexer": "ipython3",
   "version": "3.8.8"
  }
 },
 "nbformat": 4,
 "nbformat_minor": 5
}
