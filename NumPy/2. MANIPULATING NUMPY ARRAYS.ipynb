{
 "cells": [
  {
   "cell_type": "markdown",
   "id": "textile-voltage",
   "metadata": {},
   "source": [
    "# MANIPULATING NUMPY ARRAYS"
   ]
  },
  {
   "cell_type": "markdown",
   "id": "hairy-debate",
   "metadata": {},
   "source": [
    "As earlier stated in the introduction section, NumPy ndarray is a fast and flexible multidimensional container for large and homogenous data sets. To leverage this flexibity there are numerous operations avaliable to maximize the utility of NumPy arrays, the following subtopics will cover these operations:\n",
    "\n",
    "+ [Indexing and slicing / fancy indexing](#indexing)\n",
    "+ [Boolen Arrays, conditional selection and masking](#boolean)\n",
    "+ [View](#view)\n",
    "+ [Manipulating Arrays](#manipulating)\n",
    "+ [Axis Ambiguity](#Axis)\n"
   ]
  },
  {
   "cell_type": "markdown",
   "id": "running-burden",
   "metadata": {},
   "source": [
    "<a id='indexing'></a>"
   ]
  },
  {
   "cell_type": "markdown",
   "id": "express-acquisition",
   "metadata": {},
   "source": [
    "### Indexing, slicing and fancy indexing\n",
    "Elements and sections of NumPy arrays are accessed using the square bracket and colon notation just Python List objects, within the square bracket, the format for the selection or slice is specified based on what we want to select or slice.\n",
    "\n",
    "conventions:\n",
    "\n",
    "1. ndarray selection ``[m:n:p] ``\n",
    "2. positsive integers are used to index elements from the begining of the array  ``(m)``\n",
    "3. The very first element is at index position ``0``\n",
    "4. Negative integers begining from  ``-1`` are used to select items from the end of the array. the last element is at index ``-1``\n",
    "5. When slicing the stop element is excluded ``(n-1)``\n",
    "6. ``p`` refers to the increment, if it is negative the array will be reversed.\n",
    "7. For two dimension arrays, multidimentional ndarray selection ``[m:n:p,m:n:p]``"
   ]
  },
  {
   "cell_type": "markdown",
   "id": "legislative-power",
   "metadata": {},
   "source": [
    "Positive Index | 0 | 1 | 2 | 3 | 4 | 5 | 6 |\n",
    ":-:| :-: | :-:| :-: | :-: | :-: | :-: | :-: |\n",
    "**ndarray** | 5 | 10 | 15 | 20 | 25 | 30 | 35 |\n",
    "**Negative Index** | -7 | -6 | -5 | -4 | -3 | -2 | -1 |"
   ]
  },
  {
   "cell_type": "code",
   "execution_count": 1,
   "id": "pretty-wagner",
   "metadata": {},
   "outputs": [],
   "source": [
    "import numpy as np\n",
    "arr = np.arange(0,36,5)"
   ]
  },
  {
   "cell_type": "code",
   "execution_count": 2,
   "id": "packed-efficiency",
   "metadata": {},
   "outputs": [
    {
     "data": {
      "text/plain": [
       "array([ 0,  5, 10, 15, 20, 25, 30, 35])"
      ]
     },
     "execution_count": 2,
     "metadata": {},
     "output_type": "execute_result"
    }
   ],
   "source": [
    "arr"
   ]
  },
  {
   "cell_type": "code",
   "execution_count": 3,
   "id": "verbal-source",
   "metadata": {},
   "outputs": [
    {
     "data": {
      "text/plain": [
       "0"
      ]
     },
     "execution_count": 3,
     "metadata": {},
     "output_type": "execute_result"
    }
   ],
   "source": [
    "# Positive indexing\n",
    "arr[0]"
   ]
  },
  {
   "cell_type": "code",
   "execution_count": 4,
   "id": "accepted-championship",
   "metadata": {},
   "outputs": [
    {
     "data": {
      "text/plain": [
       "35"
      ]
     },
     "execution_count": 4,
     "metadata": {},
     "output_type": "execute_result"
    }
   ],
   "source": [
    "# Negative Indexing\n",
    "arr[-1]"
   ]
  },
  {
   "cell_type": "code",
   "execution_count": 5,
   "id": "german-taiwan",
   "metadata": {},
   "outputs": [
    {
     "data": {
      "text/plain": [
       "30"
      ]
     },
     "execution_count": 5,
     "metadata": {},
     "output_type": "execute_result"
    }
   ],
   "source": [
    "# The index  on last position is n-1\n",
    "arr[6]"
   ]
  },
  {
   "cell_type": "markdown",
   "id": "binary-analyst",
   "metadata": {},
   "source": [
    "**Indexing Tips:**\n",
    "\n",
    "Expression | Description\n",
    ":-|:-\n",
    "**arr[m]** | select element at index m, where m is an integer counting from first element as 0\n",
    "**arr[-m]** | select the nth element from the end where m is a negative integer counting from last element as -1\n",
    "**arr[m:n]** | select element from m to index (n-1)\n",
    "**arr[0:-1] or arr[:]** |  select all elements in the array\n",
    "**arr[:n]** | select from begining at index 0 to index (n-1)\n",
    "**arr[m:] or arr[m:-1]** | select from index m to the last element\n",
    "**arr[::-1]** | select all elements in reversed order\n",
    "**arr[row,column]**| 2D array indexing where row and columns are selected respectively"
   ]
  },
  {
   "cell_type": "code",
   "execution_count": 6,
   "id": "separated-packing",
   "metadata": {},
   "outputs": [
    {
     "data": {
      "text/plain": [
       "array([ 0,  5, 10, 15, 20, 25, 30, 35])"
      ]
     },
     "execution_count": 6,
     "metadata": {},
     "output_type": "execute_result"
    }
   ],
   "source": [
    "arr"
   ]
  },
  {
   "cell_type": "code",
   "execution_count": 7,
   "id": "serial-hygiene",
   "metadata": {},
   "outputs": [
    {
     "data": {
      "text/plain": [
       "array([ 5, 10, 15, 20, 25, 30])"
      ]
     },
     "execution_count": 7,
     "metadata": {},
     "output_type": "execute_result"
    }
   ],
   "source": [
    "# selecting from index 1 to the end exluding the stop index\n",
    "arr[1:-1]"
   ]
  },
  {
   "cell_type": "code",
   "execution_count": 8,
   "id": "interior-somalia",
   "metadata": {},
   "outputs": [
    {
     "data": {
      "text/plain": [
       "array([ 0,  5, 10, 15, 20, 25, 30])"
      ]
     },
     "execution_count": 8,
     "metadata": {},
     "output_type": "execute_result"
    }
   ],
   "source": [
    "# slicing from start index to 7-1 = 6index\n",
    "arr[:7]"
   ]
  },
  {
   "cell_type": "code",
   "execution_count": 9,
   "id": "hourly-naples",
   "metadata": {},
   "outputs": [
    {
     "data": {
      "text/plain": [
       "array([15, 20, 25, 30, 35])"
      ]
     },
     "execution_count": 9,
     "metadata": {},
     "output_type": "execute_result"
    }
   ],
   "source": [
    "# Slicing from -5 index to the end\n",
    "arr[-5:]"
   ]
  },
  {
   "cell_type": "code",
   "execution_count": 10,
   "id": "provincial-baltimore",
   "metadata": {},
   "outputs": [],
   "source": [
    "# Multidimensional Arrays\n",
    "f = lambda m,n: n + 10 * m"
   ]
  },
  {
   "cell_type": "code",
   "execution_count": 11,
   "id": "compatible-usage",
   "metadata": {},
   "outputs": [],
   "source": [
    "arr_2 = np.fromfunction(f,(6,6))"
   ]
  },
  {
   "cell_type": "code",
   "execution_count": 12,
   "id": "premier-financing",
   "metadata": {},
   "outputs": [
    {
     "data": {
      "text/plain": [
       "array([[ 0.,  1.,  2.,  3.,  4.,  5.],\n",
       "       [10., 11., 12., 13., 14., 15.],\n",
       "       [20., 21., 22., 23., 24., 25.],\n",
       "       [30., 31., 32., 33., 34., 35.],\n",
       "       [40., 41., 42., 43., 44., 45.],\n",
       "       [50., 51., 52., 53., 54., 55.]])"
      ]
     },
     "execution_count": 12,
     "metadata": {},
     "output_type": "execute_result"
    }
   ],
   "source": [
    "arr_2"
   ]
  },
  {
   "cell_type": "code",
   "execution_count": 13,
   "id": "acquired-consumer",
   "metadata": {},
   "outputs": [
    {
     "data": {
      "text/plain": [
       "array([[ 0.,  1.,  2.,  3.,  4.,  5.],\n",
       "       [10., 11., 12., 13., 14., 15.],\n",
       "       [20., 21., 22., 23., 24., 25.]])"
      ]
     },
     "execution_count": 13,
     "metadata": {},
     "output_type": "execute_result"
    }
   ],
   "source": [
    "# selecting the first 3 rows\n",
    "arr_2[0:3]"
   ]
  },
  {
   "cell_type": "code",
   "execution_count": 14,
   "id": "composite-carnival",
   "metadata": {},
   "outputs": [
    {
     "data": {
      "text/plain": [
       "array([[ 0.,  1.,  2.],\n",
       "       [10., 11., 12.],\n",
       "       [20., 21., 22.],\n",
       "       [30., 31., 32.],\n",
       "       [40., 41., 42.],\n",
       "       [50., 51., 52.]])"
      ]
     },
     "execution_count": 14,
     "metadata": {},
     "output_type": "execute_result"
    }
   ],
   "source": [
    "# Selecting the first 3 columns \n",
    "arr_2[:,0:3]"
   ]
  },
  {
   "cell_type": "code",
   "execution_count": 15,
   "id": "moving-analyst",
   "metadata": {},
   "outputs": [
    {
     "data": {
      "text/plain": [
       "array([[11., 12., 13., 14.],\n",
       "       [21., 22., 23., 24.],\n",
       "       [31., 32., 33., 34.],\n",
       "       [41., 42., 43., 44.]])"
      ]
     },
     "execution_count": 15,
     "metadata": {},
     "output_type": "execute_result"
    }
   ],
   "source": [
    "# selecting items from the middle of the array\n",
    "arr_2[1:5,1:5]"
   ]
  },
  {
   "cell_type": "code",
   "execution_count": 16,
   "id": "boolean-monroe",
   "metadata": {},
   "outputs": [
    {
     "data": {
      "text/plain": [
       "array([[21., 22., 23., 24.],\n",
       "       [31., 32., 33., 34.],\n",
       "       [41., 42., 43., 44.]])"
      ]
     },
     "execution_count": 16,
     "metadata": {},
     "output_type": "execute_result"
    }
   ],
   "source": [
    "# selecting items using negative indexing\n",
    "arr_2[2:-1,1:-1]"
   ]
  },
  {
   "cell_type": "code",
   "execution_count": 17,
   "id": "aggressive-priest",
   "metadata": {},
   "outputs": [
    {
     "data": {
      "text/plain": [
       "array([[55., 54., 53., 52., 51., 50.],\n",
       "       [45., 44., 43., 42., 41., 40.],\n",
       "       [35., 34., 33., 32., 31., 30.],\n",
       "       [25., 24., 23., 22., 21., 20.],\n",
       "       [15., 14., 13., 12., 11., 10.],\n",
       "       [ 5.,  4.,  3.,  2.,  1.,  0.]])"
      ]
     },
     "execution_count": 17,
     "metadata": {},
     "output_type": "execute_result"
    }
   ],
   "source": [
    "# Reversing the rows and columns\n",
    "arr_2[::-1,::-1]"
   ]
  },
  {
   "cell_type": "markdown",
   "id": "controlling-exhibit",
   "metadata": {},
   "source": [
    "**Fancy Indexing**\n",
    "Previously indexing was done with integers in square brackets and colon to select elements or sections, Numpy provides a flexible approach to index by using either an array, list  or sequence of integers whose values select elements in the array we desire to index. lets explore an example for clarity"
   ]
  },
  {
   "cell_type": "code",
   "execution_count": 18,
   "id": "serial-trust",
   "metadata": {},
   "outputs": [
    {
     "data": {
      "text/plain": [
       "array([[ 0.,  1.,  2.,  3.,  4.,  5.],\n",
       "       [10., 11., 12., 13., 14., 15.],\n",
       "       [20., 21., 22., 23., 24., 25.],\n",
       "       [30., 31., 32., 33., 34., 35.],\n",
       "       [40., 41., 42., 43., 44., 45.],\n",
       "       [50., 51., 52., 53., 54., 55.]])"
      ]
     },
     "execution_count": 18,
     "metadata": {},
     "output_type": "execute_result"
    }
   ],
   "source": [
    "arr_2"
   ]
  },
  {
   "cell_type": "code",
   "execution_count": 19,
   "id": "integrated-rover",
   "metadata": {},
   "outputs": [
    {
     "data": {
      "text/plain": [
       "array([[ 0.,  1.,  2.,  3.,  4.,  5.],\n",
       "       [20., 21., 22., 23., 24., 25.],\n",
       "       [40., 41., 42., 43., 44., 45.]])"
      ]
     },
     "execution_count": 19,
     "metadata": {},
     "output_type": "execute_result"
    }
   ],
   "source": [
    "# Selecting particular rows\n",
    "arr_2[[0,2,4]]"
   ]
  },
  {
   "cell_type": "code",
   "execution_count": 20,
   "id": "acoustic-bleeding",
   "metadata": {},
   "outputs": [
    {
     "data": {
      "text/plain": [
       "array([[ 1.,  3.,  5.],\n",
       "       [11., 13., 15.],\n",
       "       [21., 23., 25.],\n",
       "       [31., 33., 35.],\n",
       "       [41., 43., 45.],\n",
       "       [51., 53., 55.]])"
      ]
     },
     "execution_count": 20,
     "metadata": {},
     "output_type": "execute_result"
    }
   ],
   "source": [
    "# selecting particular columns\n",
    "arr_2[:,[1,3,5]]"
   ]
  },
  {
   "cell_type": "code",
   "execution_count": 21,
   "id": "choice-crowd",
   "metadata": {},
   "outputs": [
    {
     "data": {
      "text/plain": [
       "array([21., 42., 53.])"
      ]
     },
     "execution_count": 21,
     "metadata": {},
     "output_type": "execute_result"
    }
   ],
   "source": [
    "#selecting particular elements\n",
    "arr_2[[2,4,5],[1,2,3]]"
   ]
  },
  {
   "cell_type": "markdown",
   "id": "boolean-charleston",
   "metadata": {},
   "source": [
    "<a id='boolean'></a>"
   ]
  },
  {
   "cell_type": "markdown",
   "id": "gentle-defeat",
   "metadata": {},
   "source": [
    "### Boolen Arrays, conditional selection and masking\n",
    "Another variant of selection in NumPy arrays is the use Boolean-valued index arrays. In this case a compairson expression is set up between a scalar and array or two arrays. each element evaluates to a boolean (with True or False)  and selection is based on the elements that evaluate to true. (That is, if element n in the indexing\n",
    "array of Boolean values is True, then element n is selected from the indexed array.) If the\n",
    "value is False, then element n is not selected. This index method is handy when filtering out\n",
    "elements from an array.we will explore some examples, but before the lets run tghrough the guidelines:\n",
    "\n",
    "\n",
    "1. Use compairson operator to compare array to values ( >, <, !=, >= , <= ) eg.  **data > 100**\n",
    "2. When you have multiple conditions each condition should be put in parenthesesㅤeg. **(data > 100) & (data < 1000)**\n",
    "3. Use **&** to represent **AND**  ㅤeg. **(data > 100) & (data < 1000)**  \n",
    "4. Use pipe operator **( | )** to represent **OR** ㅤeg. **(data < 20) | (data < 50)**\n",
    "5. Assign the mask to a variable ㅤㅤㅤㅤㅤeg. **mask = (data < 20) | (data < 50)**\n",
    "6. Cast the mask (conditions) to the main arrayㅤㅤㅤeg. **data[mask]**\n",
    "\n",
    "compairson operators:\n",
    "\n",
    "Operator | Description\n",
    ":- | :-\n",
    "== | Equal to\n",
    "!= | Not Equal to\n",
    "< | Less than\n",
    "<= | Less than or equal to\n",
    "> | Greater than\n",
    ">= | Greater than or equal to\n",
    "\n"
   ]
  },
  {
   "cell_type": "code",
   "execution_count": 22,
   "id": "vocal-bangladesh",
   "metadata": {},
   "outputs": [
    {
     "data": {
      "text/plain": [
       "array([680, 332,  21, 319, 990, 832, 774, 690, 139, 568, 868, 204, 250,\n",
       "       641, 555, 136, 940, 557, 174, 705, 586, 731, 594,  41, 113, 147,\n",
       "       290, 916, 414, 378])"
      ]
     },
     "execution_count": 22,
     "metadata": {},
     "output_type": "execute_result"
    }
   ],
   "source": [
    "data = np.random.randint(1,1000,30)\n",
    "data"
   ]
  },
  {
   "cell_type": "code",
   "execution_count": 23,
   "id": "affected-munich",
   "metadata": {},
   "outputs": [
    {
     "data": {
      "text/plain": [
       "array([ True,  True, False,  True,  True,  True,  True,  True,  True,\n",
       "        True,  True,  True,  True,  True,  True,  True,  True,  True,\n",
       "        True,  True,  True,  True,  True, False,  True,  True,  True,\n",
       "        True,  True,  True])"
      ]
     },
     "execution_count": 23,
     "metadata": {},
     "output_type": "execute_result"
    }
   ],
   "source": [
    "# Boolean selection of data greater than 100\n",
    "data > 100"
   ]
  },
  {
   "cell_type": "code",
   "execution_count": 24,
   "id": "secure-response",
   "metadata": {},
   "outputs": [
    {
     "data": {
      "text/plain": [
       "array([680, 332, 319, 990, 832, 774, 690, 139, 568, 868, 204, 250, 641,\n",
       "       555, 136, 940, 557, 174, 705, 586, 731, 594, 113, 147, 290, 916,\n",
       "       414, 378])"
      ]
     },
     "execution_count": 24,
     "metadata": {},
     "output_type": "execute_result"
    }
   ],
   "source": [
    "# masking the array\n",
    "data[data> 100]"
   ]
  },
  {
   "cell_type": "code",
   "execution_count": 25,
   "id": "heated-prize",
   "metadata": {},
   "outputs": [],
   "source": [
    "# Using AND condition\n",
    "mask = (data > 100) & (data < 1000)"
   ]
  },
  {
   "cell_type": "code",
   "execution_count": 26,
   "id": "convenient-elizabeth",
   "metadata": {},
   "outputs": [
    {
     "data": {
      "text/plain": [
       "array([680, 332, 319, 990, 832, 774, 690, 139, 568, 868, 204, 250, 641,\n",
       "       555, 136, 940, 557, 174, 705, 586, 731, 594, 113, 147, 290, 916,\n",
       "       414, 378])"
      ]
     },
     "execution_count": 26,
     "metadata": {},
     "output_type": "execute_result"
    }
   ],
   "source": [
    "# Conditional Selection\n",
    "data[mask]"
   ]
  },
  {
   "cell_type": "code",
   "execution_count": 27,
   "id": "powered-fiction",
   "metadata": {},
   "outputs": [],
   "source": [
    "#using OR condition\n",
    "mask = (data < 20) | (data < 50)"
   ]
  },
  {
   "cell_type": "code",
   "execution_count": 28,
   "id": "paperback-shirt",
   "metadata": {},
   "outputs": [
    {
     "data": {
      "text/plain": [
       "array([21, 41])"
      ]
     },
     "execution_count": 28,
     "metadata": {},
     "output_type": "execute_result"
    }
   ],
   "source": [
    "# Conditional Selection\n",
    "data[mask]"
   ]
  },
  {
   "cell_type": "markdown",
   "id": "impressed-people",
   "metadata": {},
   "source": [
    "<a id='view'></a>"
   ]
  },
  {
   "cell_type": "markdown",
   "id": "acquired-microwave",
   "metadata": {},
   "source": [
    "### View\n",
    "At this point it is important to note that when you select elements from an array and assign them to a value, this value is also assigned to the main array, the selected items serve as a view to the main array. simply put, array slices return views rather than copies of the array data. The down side of this is that we can loose information from our array. In such conditions it is advisable to first make a copy of the array before selecting and assigning values to them, lets explore some examples:\n"
   ]
  },
  {
   "cell_type": "code",
   "execution_count": 29,
   "id": "literary-buying",
   "metadata": {},
   "outputs": [
    {
     "data": {
      "text/plain": [
       "array([[680, 332,  21, 319, 990, 832],\n",
       "       [774, 690, 139, 568, 868, 204],\n",
       "       [250, 641, 555, 136, 940, 557],\n",
       "       [174, 705, 586, 731, 594,  41],\n",
       "       [113, 147, 290, 916, 414, 378]])"
      ]
     },
     "execution_count": 29,
     "metadata": {},
     "output_type": "execute_result"
    }
   ],
   "source": [
    "arr_5 = data.reshape(5,6)\n",
    "arr_5"
   ]
  },
  {
   "cell_type": "code",
   "execution_count": null,
   "id": "temporal-defensive",
   "metadata": {},
   "outputs": [],
   "source": []
  },
  {
   "cell_type": "code",
   "execution_count": 30,
   "id": "arctic-ghana",
   "metadata": {},
   "outputs": [],
   "source": [
    "# Assigning a value  to a selection \n",
    "arr_5[0,:] = 100"
   ]
  },
  {
   "cell_type": "code",
   "execution_count": 31,
   "id": "minus-oxygen",
   "metadata": {},
   "outputs": [
    {
     "data": {
      "text/plain": [
       "array([[100, 100, 100, 100, 100, 100],\n",
       "       [774, 690, 139, 568, 868, 204],\n",
       "       [250, 641, 555, 136, 940, 557],\n",
       "       [174, 705, 586, 731, 594,  41],\n",
       "       [113, 147, 290, 916, 414, 378]])"
      ]
     },
     "execution_count": 31,
     "metadata": {},
     "output_type": "execute_result"
    }
   ],
   "source": [
    "# Selected items assigned to 100 have been broadcasted to the main array\n",
    "arr_5"
   ]
  },
  {
   "cell_type": "code",
   "execution_count": 32,
   "id": "terminal-toolbox",
   "metadata": {},
   "outputs": [],
   "source": [
    "# makin a copy of the array\n",
    "arr_5_copy = arr_5.copy()"
   ]
  },
  {
   "cell_type": "code",
   "execution_count": 33,
   "id": "focal-silicon",
   "metadata": {},
   "outputs": [
    {
     "data": {
      "text/plain": [
       "array([[100, 100, 100, 100, 100, 100],\n",
       "       [774, 690, 139, 568, 868, 204],\n",
       "       [250, 641, 555, 136, 940, 557],\n",
       "       [174, 705, 586, 731, 594,  41],\n",
       "       [113, 147, 290, 916, 414, 378]])"
      ]
     },
     "execution_count": 33,
     "metadata": {},
     "output_type": "execute_result"
    }
   ],
   "source": [
    "arr_5_copy \n"
   ]
  },
  {
   "cell_type": "code",
   "execution_count": 34,
   "id": "previous-transition",
   "metadata": {},
   "outputs": [
    {
     "data": {
      "text/plain": [
       "array([100, 100, 100, 100, 100, 100])"
      ]
     },
     "execution_count": 34,
     "metadata": {},
     "output_type": "execute_result"
    }
   ],
   "source": [
    "arr_5_copy[0,:]"
   ]
  },
  {
   "cell_type": "code",
   "execution_count": 35,
   "id": "virgin-traveler",
   "metadata": {},
   "outputs": [],
   "source": [
    "# Assigning values to a selection\n",
    "arr_5_copy[0,:] = 200"
   ]
  },
  {
   "cell_type": "code",
   "execution_count": 36,
   "id": "forward-participation",
   "metadata": {},
   "outputs": [
    {
     "data": {
      "text/plain": [
       "array([[100, 100, 100, 100, 100, 100],\n",
       "       [774, 690, 139, 568, 868, 204],\n",
       "       [250, 641, 555, 136, 940, 557],\n",
       "       [174, 705, 586, 731, 594,  41],\n",
       "       [113, 147, 290, 916, 414, 378]])"
      ]
     },
     "execution_count": 36,
     "metadata": {},
     "output_type": "execute_result"
    }
   ],
   "source": [
    "# The main array was unaffected by the assignment made to the copy\n",
    "arr_5"
   ]
  },
  {
   "cell_type": "code",
   "execution_count": 37,
   "id": "injured-saudi",
   "metadata": {},
   "outputs": [
    {
     "data": {
      "text/plain": [
       "array([[200, 200, 200, 200, 200, 200],\n",
       "       [774, 690, 139, 568, 868, 204],\n",
       "       [250, 641, 555, 136, 940, 557],\n",
       "       [174, 705, 586, 731, 594,  41],\n",
       "       [113, 147, 290, 916, 414, 378]])"
      ]
     },
     "execution_count": 37,
     "metadata": {},
     "output_type": "execute_result"
    }
   ],
   "source": [
    "# The assigned value was reflected on the copy\n",
    "arr_5_copy"
   ]
  },
  {
   "cell_type": "markdown",
   "id": "sharp-norwegian",
   "metadata": {},
   "source": [
    "<a id='manipulating'></a>  "
   ]
  },
  {
   "cell_type": "markdown",
   "id": "failing-offering",
   "metadata": {},
   "source": [
    "### Manipulating Arrays\n",
    "while working with arrays there are situations where we need to reconfigure their arrangements< transform or even combine arrays together. Numpy provides functions for this purpose, the table below presents functions we can utilize:\n",
    "\n",
    "Function | Description\n",
    ":- | :-\n",
    "np.reshape(a, newshape) or np.ndarray.reshape() | Gives a new shape to an array without changing its data\n",
    "np.resize(d, newshape) | Return a new array with the specified shape, can change the data\n",
    "np.ndarray.flatten() | creates a copy of an N dimensional array and colapses it to a one dimensional array\n",
    "np.transpose(a, axes) or np.ndarray.T() | Reverse or permute the axes of an array; returns the modified array\n",
    "np.hstack(tup) | Stack arrays in sequence horizontally (column wise\n",
    "np.vstack(tup) | Stack arrays in sequence vertically (row wise)\n",
    "np.concatenate((a1, a2, ...), axis) | Join a sequence of arrays along an existing axis.\n",
    "np.copy(a) | Return an array copy of the given object\n",
    "np.ndarray.astype() | Copy of the array, cast to a specified type.   \n",
    "np.sort(a, axis, kind) | Return a sorted copy of an array."
   ]
  },
  {
   "cell_type": "code",
   "execution_count": 38,
   "id": "stuffed-edmonton",
   "metadata": {},
   "outputs": [],
   "source": [
    "arr_3 = np.arange(0,25)"
   ]
  },
  {
   "cell_type": "code",
   "execution_count": 39,
   "id": "neutral-progress",
   "metadata": {},
   "outputs": [],
   "source": [
    "# changing the shape of array\n",
    "reshaped_arr = arr_3.reshape((5,5))"
   ]
  },
  {
   "cell_type": "code",
   "execution_count": 40,
   "id": "finnish-exploration",
   "metadata": {},
   "outputs": [
    {
     "data": {
      "text/plain": [
       "array([[ 0,  1,  2,  3,  4],\n",
       "       [ 5,  6,  7,  8,  9],\n",
       "       [10, 11, 12, 13, 14],\n",
       "       [15, 16, 17, 18, 19],\n",
       "       [20, 21, 22, 23, 24]])"
      ]
     },
     "execution_count": 40,
     "metadata": {},
     "output_type": "execute_result"
    }
   ],
   "source": [
    "reshaped_arr"
   ]
  },
  {
   "cell_type": "code",
   "execution_count": 41,
   "id": "regional-negotiation",
   "metadata": {},
   "outputs": [],
   "source": [
    "arr_4 = np.arange(0,9).reshape((3,3))"
   ]
  },
  {
   "cell_type": "code",
   "execution_count": 42,
   "id": "important-sudan",
   "metadata": {},
   "outputs": [
    {
     "data": {
      "text/plain": [
       "array([[0, 1, 2],\n",
       "       [3, 4, 5],\n",
       "       [6, 7, 8]])"
      ]
     },
     "execution_count": 42,
     "metadata": {},
     "output_type": "execute_result"
    }
   ],
   "source": [
    "arr_4"
   ]
  },
  {
   "cell_type": "code",
   "execution_count": 43,
   "id": "minimal-graphics",
   "metadata": {},
   "outputs": [],
   "source": [
    "# using flat function to make 2  dimension array to  1 dimension\n",
    "flat_array =arr_4.flatten()"
   ]
  },
  {
   "cell_type": "code",
   "execution_count": 44,
   "id": "awful-adrian",
   "metadata": {},
   "outputs": [
    {
     "data": {
      "text/plain": [
       "array([0, 1, 2, 3, 4, 5, 6, 7, 8])"
      ]
     },
     "execution_count": 44,
     "metadata": {},
     "output_type": "execute_result"
    }
   ],
   "source": [
    "flat_array"
   ]
  },
  {
   "cell_type": "code",
   "execution_count": 45,
   "id": "industrial-vampire",
   "metadata": {},
   "outputs": [],
   "source": [
    "# Transposing array\n",
    "transposed_arr= arr_4.T"
   ]
  },
  {
   "cell_type": "code",
   "execution_count": 46,
   "id": "former-dylan",
   "metadata": {},
   "outputs": [
    {
     "data": {
      "text/plain": [
       "array([[0, 3, 6],\n",
       "       [1, 4, 7],\n",
       "       [2, 5, 8]])"
      ]
     },
     "execution_count": 46,
     "metadata": {},
     "output_type": "execute_result"
    }
   ],
   "source": [
    "transposed_arr"
   ]
  },
  {
   "cell_type": "code",
   "execution_count": 47,
   "id": "hollywood-acoustic",
   "metadata": {},
   "outputs": [
    {
     "data": {
      "text/plain": [
       "array([[0, 1, 2],\n",
       "       [3, 4, 5],\n",
       "       [6, 7, 8]])"
      ]
     },
     "execution_count": 47,
     "metadata": {},
     "output_type": "execute_result"
    }
   ],
   "source": [
    "arr_4"
   ]
  },
  {
   "cell_type": "code",
   "execution_count": 48,
   "id": "acquired-portland",
   "metadata": {},
   "outputs": [
    {
     "data": {
      "text/plain": [
       "array([[0, 1, 2, 0, 3, 6],\n",
       "       [3, 4, 5, 1, 4, 7],\n",
       "       [6, 7, 8, 2, 5, 8]])"
      ]
     },
     "execution_count": 48,
     "metadata": {},
     "output_type": "execute_result"
    }
   ],
   "source": [
    "# stacking arrays horizontally\n",
    "np.hstack((arr_4,transposed_arr))"
   ]
  },
  {
   "cell_type": "code",
   "execution_count": 49,
   "id": "cross-foundation",
   "metadata": {},
   "outputs": [
    {
     "data": {
      "text/plain": [
       "array([[0, 1, 2],\n",
       "       [3, 4, 5],\n",
       "       [6, 7, 8],\n",
       "       [0, 3, 6],\n",
       "       [1, 4, 7],\n",
       "       [2, 5, 8]])"
      ]
     },
     "execution_count": 49,
     "metadata": {},
     "output_type": "execute_result"
    }
   ],
   "source": [
    "#stacking arrays vertically\n",
    "np.vstack((arr_4,transposed_arr))"
   ]
  },
  {
   "cell_type": "code",
   "execution_count": 50,
   "id": "indonesian-rotation",
   "metadata": {},
   "outputs": [
    {
     "data": {
      "text/plain": [
       "array([[0, 1, 2],\n",
       "       [3, 4, 5],\n",
       "       [6, 7, 8],\n",
       "       [0, 3, 6],\n",
       "       [1, 4, 7],\n",
       "       [2, 5, 8]])"
      ]
     },
     "execution_count": 50,
     "metadata": {},
     "output_type": "execute_result"
    }
   ],
   "source": [
    "# Using concatenate function to merge Two arrays along the rows\n",
    "np.concatenate((arr_4,transposed_arr), axis=0)"
   ]
  },
  {
   "cell_type": "code",
   "execution_count": 51,
   "id": "portable-charger",
   "metadata": {},
   "outputs": [],
   "source": [
    "# Using concatenate function to merge arrays along the columns\n",
    "concat_arr = np.concatenate((arr_4,transposed_arr), axis=1)"
   ]
  },
  {
   "cell_type": "code",
   "execution_count": 52,
   "id": "martial-stanford",
   "metadata": {},
   "outputs": [
    {
     "data": {
      "text/plain": [
       "array([[0, 1, 2, 0, 3, 6],\n",
       "       [3, 4, 5, 1, 4, 7],\n",
       "       [6, 7, 8, 2, 5, 8]])"
      ]
     },
     "execution_count": 52,
     "metadata": {},
     "output_type": "execute_result"
    }
   ],
   "source": [
    "concat_arr"
   ]
  },
  {
   "cell_type": "code",
   "execution_count": 53,
   "id": "driven-minute",
   "metadata": {},
   "outputs": [],
   "source": [
    "# copying arrays\n",
    "copied_arr = np.copy(concat_arr)"
   ]
  },
  {
   "cell_type": "code",
   "execution_count": 54,
   "id": "alien-pilot",
   "metadata": {},
   "outputs": [
    {
     "data": {
      "text/plain": [
       "array([[0, 1, 2, 0, 3, 6],\n",
       "       [3, 4, 5, 1, 4, 7],\n",
       "       [6, 7, 8, 2, 5, 8]])"
      ]
     },
     "execution_count": 54,
     "metadata": {},
     "output_type": "execute_result"
    }
   ],
   "source": [
    "copied_arr"
   ]
  },
  {
   "cell_type": "code",
   "execution_count": 55,
   "id": "respiratory-serial",
   "metadata": {},
   "outputs": [],
   "source": [
    "# Changing the data type of array elements\n",
    "float_arr = copied_arr.astype(np.float)"
   ]
  },
  {
   "cell_type": "code",
   "execution_count": 56,
   "id": "baking-clinic",
   "metadata": {},
   "outputs": [
    {
     "data": {
      "text/plain": [
       "array([[0., 1., 2., 0., 3., 6.],\n",
       "       [3., 4., 5., 1., 4., 7.],\n",
       "       [6., 7., 8., 2., 5., 8.]])"
      ]
     },
     "execution_count": 56,
     "metadata": {},
     "output_type": "execute_result"
    }
   ],
   "source": [
    "float_arr"
   ]
  },
  {
   "cell_type": "code",
   "execution_count": 57,
   "id": "nuclear-video",
   "metadata": {},
   "outputs": [],
   "source": [
    "# sorting arrays by each columns on the 1 axis (along the rows)\n",
    "sort_arr = np.sort(float_arr, axis=1)"
   ]
  },
  {
   "cell_type": "code",
   "execution_count": 58,
   "id": "choice-captain",
   "metadata": {},
   "outputs": [
    {
     "data": {
      "text/plain": [
       "array([[0., 0., 1., 2., 3., 6.],\n",
       "       [1., 3., 4., 4., 5., 7.],\n",
       "       [2., 5., 6., 7., 8., 8.]])"
      ]
     },
     "execution_count": 58,
     "metadata": {},
     "output_type": "execute_result"
    }
   ],
   "source": [
    "sort_arr"
   ]
  },
  {
   "cell_type": "markdown",
   "id": "understanding-creek",
   "metadata": {},
   "source": [
    "#### Resize Vs Reshape\n",
    "While working with arrays the need will arise to re configure the shape or size of your array, at this point it is importand to distinguish between size and shape of the array.\n",
    "\n",
    "+ **Size** referes to the number of elements in an array\n",
    "+ **shape** relates to the size of the dimensions of an N-dimensional array.\n",
    "\n",
    "**resizing** will then return a new array that has the shape that you passed to the np.resize() function. If you pass your original array together with the new dimensions, and if that new array is larger than the one that you originally had, the new array will be filled with copies of the original array that are repeated as many times as is needed.\n",
    "However, if you pass in a new shape that is smaller in dimensions the data in the array will be truncated to meet the specified dimension.*\n",
    "\n",
    "**reshaping** means that you give a new shape to an array without changing its data. The key to reshaping is to make sure that the total size of the new array is unchanged. \n",
    "\n",
    "**NB** The key difference between them is that while the resize function alter the size of data in the array, the reshape function doesnt alter the size of the array in general, but changes the size of the dimensions. Lets explore some examples for clarity:"
   ]
  },
  {
   "cell_type": "code",
   "execution_count": 59,
   "id": "pharmaceutical-reflection",
   "metadata": {},
   "outputs": [],
   "source": [
    "data = np.array([[1,2,3,4],[100,200,300,400],[1000,2000,3000,4000]])"
   ]
  },
  {
   "cell_type": "code",
   "execution_count": 60,
   "id": "elect-possibility",
   "metadata": {},
   "outputs": [
    {
     "data": {
      "text/plain": [
       "array([[   1,    2,    3,    4],\n",
       "       [ 100,  200,  300,  400],\n",
       "       [1000, 2000, 3000, 4000]])"
      ]
     },
     "execution_count": 60,
     "metadata": {},
     "output_type": "execute_result"
    }
   ],
   "source": [
    "\n",
    "data"
   ]
  },
  {
   "cell_type": "code",
   "execution_count": 61,
   "id": "fundamental-shelter",
   "metadata": {},
   "outputs": [
    {
     "data": {
      "text/plain": [
       "(3, 4)"
      ]
     },
     "execution_count": 61,
     "metadata": {},
     "output_type": "execute_result"
    }
   ],
   "source": [
    "# The shape of the array\n",
    "data.shape"
   ]
  },
  {
   "cell_type": "code",
   "execution_count": 62,
   "id": "matched-sculpture",
   "metadata": {},
   "outputs": [
    {
     "data": {
      "text/plain": [
       "12"
      ]
     },
     "execution_count": 62,
     "metadata": {},
     "output_type": "execute_result"
    }
   ],
   "source": [
    "# The size of the array\n",
    "data.size"
   ]
  },
  {
   "cell_type": "code",
   "execution_count": 63,
   "id": "confidential-theology",
   "metadata": {},
   "outputs": [
    {
     "data": {
      "text/plain": [
       "array([[   1,    2,    3,    4,  100,  200],\n",
       "       [ 300,  400, 1000, 2000, 3000, 4000]])"
      ]
     },
     "execution_count": 63,
     "metadata": {},
     "output_type": "execute_result"
    }
   ],
   "source": [
    "# Reshaping the array\n",
    "data.reshape((2,6))"
   ]
  },
  {
   "cell_type": "code",
   "execution_count": 64,
   "id": "private-serve",
   "metadata": {},
   "outputs": [
    {
     "data": {
      "text/plain": [
       "array([[   1,    2,    3,    4,  100],\n",
       "       [ 200,  300,  400, 1000, 2000],\n",
       "       [3000, 4000,    1,    2,    3],\n",
       "       [   4,  100,  200,  300,  400],\n",
       "       [1000, 2000, 3000, 4000,    1]])"
      ]
     },
     "execution_count": 64,
     "metadata": {},
     "output_type": "execute_result"
    }
   ],
   "source": [
    "# Resizing the array with a larger dimension\n",
    "resize_data = np.resize(data,(5,5))\n",
    "resize_data"
   ]
  },
  {
   "cell_type": "code",
   "execution_count": 65,
   "id": "external-swift",
   "metadata": {},
   "outputs": [
    {
     "data": {
      "text/plain": [
       "(5, 5)"
      ]
     },
     "execution_count": 65,
     "metadata": {},
     "output_type": "execute_result"
    }
   ],
   "source": [
    "# New shape(larger)\n",
    "resize_data.shape"
   ]
  },
  {
   "cell_type": "code",
   "execution_count": 66,
   "id": "pressing-large",
   "metadata": {},
   "outputs": [
    {
     "data": {
      "text/plain": [
       "25"
      ]
     },
     "execution_count": 66,
     "metadata": {},
     "output_type": "execute_result"
    }
   ],
   "source": [
    "# New size(smaller)\n",
    "resize_data.size"
   ]
  },
  {
   "cell_type": "code",
   "execution_count": 67,
   "id": "overall-september",
   "metadata": {},
   "outputs": [
    {
     "data": {
      "text/plain": [
       "array([[   1,    2,    3],\n",
       "       [   4,  100,  200],\n",
       "       [ 300,  400, 1000]])"
      ]
     },
     "execution_count": 67,
     "metadata": {},
     "output_type": "execute_result"
    }
   ],
   "source": [
    "# Resizing the array with a smaller dimension\n",
    "resize_data_2 = np.resize(data,(3,3))\n",
    "resize_data_2"
   ]
  },
  {
   "cell_type": "code",
   "execution_count": 68,
   "id": "detected-newton",
   "metadata": {},
   "outputs": [
    {
     "data": {
      "text/plain": [
       "(3, 3)"
      ]
     },
     "execution_count": 68,
     "metadata": {},
     "output_type": "execute_result"
    }
   ],
   "source": [
    "# New shape (smaller)\n",
    "resize_data_2.shape"
   ]
  },
  {
   "cell_type": "code",
   "execution_count": 69,
   "id": "funny-institute",
   "metadata": {},
   "outputs": [
    {
     "data": {
      "text/plain": [
       "9"
      ]
     },
     "execution_count": 69,
     "metadata": {},
     "output_type": "execute_result"
    }
   ],
   "source": [
    "# New size(smaller)\n",
    "resize_data_2.size"
   ]
  },
  {
   "cell_type": "markdown",
   "id": "ecological-concrete",
   "metadata": {},
   "source": [
    "<a id='Axis'></a>  "
   ]
  },
  {
   "attachments": {
    "image1.jpg": {
     "image/jpeg": "[encoded data removed]"
    }
   },
   "cell_type": "markdown",
   "id": "sufficient-bridal",
   "metadata": {},
   "source": [
    "### Axis Ambiguity\n",
    "Axes are defined for arrays with more than one dimension. A 2-dimensional array has two corresponding axes: the first running vertically downwards across rows (axis 0), and the second running horizontally across columns (axis 1).\n",
    "\n",
    "*It's perhaps simplest to remember it as **0=down and 1=across.** *\n",
    "\n",
    "This means:\n",
    "+ Use axis=0 to apply a method down each column, or to the row labels (the index).\n",
    "+ Use axis=1 to apply a method across each row, or to the column labels.\n",
    "\n",
    "![image1.jpg](attachment:image1.jpg)"
   ]
  },
  {
   "cell_type": "code",
   "execution_count": null,
   "id": "animated-wilson",
   "metadata": {},
   "outputs": [],
   "source": []
  }
 ],
 "metadata": {
  "kernelspec": {
   "display_name": "Python 3",
   "language": "python",
   "name": "python3"
  },
  "language_info": {
   "codemirror_mode": {
    "name": "ipython",
    "version": 3
   },
   "file_extension": ".py",
   "mimetype": "text/x-python",
   "name": "python",
   "nbconvert_exporter": "python",
   "pygments_lexer": "ipython3",
   "version": "3.8.8"
  }
 },
 "nbformat": 4,
 "nbformat_minor": 5
}
