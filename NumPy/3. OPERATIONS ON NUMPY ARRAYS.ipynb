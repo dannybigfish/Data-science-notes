{
 "cells": [
  {
   "cell_type": "markdown",
   "id": "charged-jaguar",
   "metadata": {},
   "source": [
    "# OPERATIONS ON NUMPY ARRAYS"
   ]
  },
  {
   "cell_type": "markdown",
   "id": "concrete-excerpt",
   "metadata": {},
   "source": [
    "\n",
    "+ [Arithematic Operations](#Arithematic_operations) \n",
    "+ [Broadcasting](#Broadcasting)\n",
    "+ [Universal Functions](#Universal_functions)\n",
    "+ [Set operations](#Set_operations)\n",
    "+ [saving Arrays](#saving_arrays)"
   ]
  },
  {
   "cell_type": "markdown",
   "id": "ruled-recovery",
   "metadata": {},
   "source": [
    "<a id='Arithematic_operations'></a> "
   ]
  },
  {
   "attachments": {
    "image2.png": {
     "image/png": "[encoded data removed]"
    }
   },
   "cell_type": "markdown",
   "id": "restricted-glenn",
   "metadata": {},
   "source": [
    "### Arithematic Operations \n",
    "Arithematic operations can be performed on NumPy arrays, these arithematic operations follows the standard Python arithematic operators on elementwise basis.\n",
    "\n",
    "Wes McKinney puts it as:\n",
    ">Arrays are important because they enable you to express batch operations on data without writing any for loops. This is usually called **vectorization**. Any arithmetic operations between equal-size arrays applies the operation elementwise.\n",
    "\n",
    "While operations between differently sized arrays is called **broadcasting**.\n",
    "\n",
    "The table below shows the artthimatic operators in NumPy.\n",
    "\n",
    "Operator | Description\n",
    ":- | :-\n",
    " + | Addition\n",
    " - | Subtraction\n",
    " * | Multiplication\n",
    " / | Division\n",
    "// | Floor DIvision\n",
    "% | Modulus / Remainder\n",
    " ** | Exponent\n",
    " \n",
    "An arithmetic operation between any two arrays is always performed element-by-element. That is if you add two arrays, A and B, every ith element of A is added to the ith element of B to produce the array C\n",
    "![image2.png](attachment:image2.png)\n",
    " \n",
    "Lets first explore arithematic between Arrays of compatible size and shape "
   ]
  },
  {
   "cell_type": "code",
   "execution_count": 1,
   "id": "express-pioneer",
   "metadata": {},
   "outputs": [
    {
     "data": {
      "text/plain": [
       "array([[ 5, 10, 15],\n",
       "       [20, 25, 30],\n",
       "       [35, 40, 45]])"
      ]
     },
     "execution_count": 1,
     "metadata": {},
     "output_type": "execute_result"
    }
   ],
   "source": [
    "import numpy as np\n",
    "arr_1 = np.arange(5,46,5).reshape((3,3))\n",
    "arr_1"
   ]
  },
  {
   "cell_type": "code",
   "execution_count": 2,
   "id": "broadband-contrary",
   "metadata": {},
   "outputs": [
    {
     "data": {
      "text/plain": [
       "array([[2, 2, 2],\n",
       "       [2, 2, 2],\n",
       "       [2, 2, 2]])"
      ]
     },
     "execution_count": 2,
     "metadata": {},
     "output_type": "execute_result"
    }
   ],
   "source": [
    "arr_2 = np.full((3,3),2)\n",
    "arr_2"
   ]
  },
  {
   "cell_type": "code",
   "execution_count": 3,
   "id": "continental-tournament",
   "metadata": {},
   "outputs": [
    {
     "data": {
      "text/plain": [
       "array([[ 7, 12, 17],\n",
       "       [22, 27, 32],\n",
       "       [37, 42, 47]])"
      ]
     },
     "execution_count": 3,
     "metadata": {},
     "output_type": "execute_result"
    }
   ],
   "source": [
    "# Adding Two arrays together (array and array)\n",
    "arr_1 + arr_2"
   ]
  },
  {
   "cell_type": "code",
   "execution_count": 4,
   "id": "regulated-danger",
   "metadata": {},
   "outputs": [
    {
     "data": {
      "text/plain": [
       "array([[ 3,  8, 13],\n",
       "       [18, 23, 28],\n",
       "       [33, 38, 43]])"
      ]
     },
     "execution_count": 4,
     "metadata": {},
     "output_type": "execute_result"
    }
   ],
   "source": [
    "# Subtraction (Array and Array)\n",
    "arr_1 - arr_2"
   ]
  },
  {
   "cell_type": "code",
   "execution_count": 5,
   "id": "cardiovascular-journalism",
   "metadata": {},
   "outputs": [
    {
     "data": {
      "text/plain": [
       "array([[1, 0, 1],\n",
       "       [0, 1, 0],\n",
       "       [1, 0, 1]], dtype=int32)"
      ]
     },
     "execution_count": 5,
     "metadata": {},
     "output_type": "execute_result"
    }
   ],
   "source": [
    "# Mod Division (Array and array)\n",
    "arr_1 % arr_2"
   ]
  },
  {
   "cell_type": "code",
   "execution_count": 6,
   "id": "defined-madness",
   "metadata": {},
   "outputs": [
    {
     "data": {
      "text/plain": [
       "array([[10, 20, 30],\n",
       "       [40, 50, 60],\n",
       "       [70, 80, 90]])"
      ]
     },
     "execution_count": 6,
     "metadata": {},
     "output_type": "execute_result"
    }
   ],
   "source": [
    "# Multiplication (Array and Array)\n",
    "arr_1 * arr_2"
   ]
  },
  {
   "cell_type": "code",
   "execution_count": 7,
   "id": "mediterranean-hardware",
   "metadata": {},
   "outputs": [
    {
     "data": {
      "text/plain": [
       "array([[ 2.5,  5. ,  7.5],\n",
       "       [10. , 12.5, 15. ],\n",
       "       [17.5, 20. , 22.5]])"
      ]
     },
     "execution_count": 7,
     "metadata": {},
     "output_type": "execute_result"
    }
   ],
   "source": [
    "# Divison\n",
    "arr_1 / arr_2"
   ]
  },
  {
   "cell_type": "code",
   "execution_count": 8,
   "id": "filled-venue",
   "metadata": {},
   "outputs": [
    {
     "data": {
      "text/plain": [
       "array([[ 2,  5,  7],\n",
       "       [10, 12, 15],\n",
       "       [17, 20, 22]], dtype=int32)"
      ]
     },
     "execution_count": 8,
     "metadata": {},
     "output_type": "execute_result"
    }
   ],
   "source": [
    "# Floor Division\n",
    "arr_1 // arr_2"
   ]
  },
  {
   "cell_type": "code",
   "execution_count": 9,
   "id": "competent-algorithm",
   "metadata": {},
   "outputs": [
    {
     "data": {
      "text/plain": [
       "array([[  25,  100,  225],\n",
       "       [ 400,  625,  900],\n",
       "       [1225, 1600, 2025]], dtype=int32)"
      ]
     },
     "execution_count": 9,
     "metadata": {},
     "output_type": "execute_result"
    }
   ],
   "source": [
    "# Exponent\n",
    "arr_1 ** arr_2"
   ]
  },
  {
   "cell_type": "markdown",
   "id": "infinite-trace",
   "metadata": {},
   "source": [
    "<a id='Broadcasting'></a>  "
   ]
  },
  {
   "cell_type": "markdown",
   "id": "dated-liquid",
   "metadata": {},
   "source": [
    "### Broadcasting\n",
    "**Broadcasting** refers to how arithematics works between arrays of different shapes,The simplest form of broadcasting is arithematics between a scalar value and an array object, where the scalar value is broadcasted over an array."
   ]
  },
  {
   "cell_type": "markdown",
   "id": "peaceful-screw",
   "metadata": {},
   "source": [
    "##### Array scalar broadcasting"
   ]
  },
  {
   "cell_type": "code",
   "execution_count": 10,
   "id": "beautiful-dispatch",
   "metadata": {},
   "outputs": [
    {
     "data": {
      "text/plain": [
       "array([1, 2, 3, 4, 5, 6, 7, 8, 9])"
      ]
     },
     "execution_count": 10,
     "metadata": {},
     "output_type": "execute_result"
    }
   ],
   "source": [
    "arr = np.arange(1,10)\n",
    "arr"
   ]
  },
  {
   "cell_type": "code",
   "execution_count": 11,
   "id": "roman-detector",
   "metadata": {},
   "outputs": [
    {
     "data": {
      "text/plain": [
       "array([ 6,  7,  8,  9, 10, 11, 12, 13, 14])"
      ]
     },
     "execution_count": 11,
     "metadata": {},
     "output_type": "execute_result"
    }
   ],
   "source": [
    "# Addition (array and scalar)\n",
    "arr + 5"
   ]
  },
  {
   "cell_type": "code",
   "execution_count": 12,
   "id": "earlier-schema",
   "metadata": {},
   "outputs": [
    {
     "data": {
      "text/plain": [
       "array([0, 1, 2, 3, 4, 5, 6, 7, 8])"
      ]
     },
     "execution_count": 12,
     "metadata": {},
     "output_type": "execute_result"
    }
   ],
   "source": [
    "# Subtraction (array and scalar)\n",
    "arr -1"
   ]
  },
  {
   "cell_type": "code",
   "execution_count": 13,
   "id": "worse-charity",
   "metadata": {},
   "outputs": [
    {
     "data": {
      "text/plain": [
       "array([ 5, 10, 15, 20, 25, 30, 35, 40, 45])"
      ]
     },
     "execution_count": 13,
     "metadata": {},
     "output_type": "execute_result"
    }
   ],
   "source": [
    "# Multiplying (array and scalar)\n",
    "arr * 5"
   ]
  },
  {
   "cell_type": "code",
   "execution_count": 14,
   "id": "advanced-contribution",
   "metadata": {},
   "outputs": [
    {
     "data": {
      "text/plain": [
       "array([1, 0, 1, 0, 1, 0, 1, 0, 1], dtype=int32)"
      ]
     },
     "execution_count": 14,
     "metadata": {},
     "output_type": "execute_result"
    }
   ],
   "source": [
    "# Mod division to get the remainder (array and scalar)\n",
    "arr % 2"
   ]
  },
  {
   "cell_type": "code",
   "execution_count": 15,
   "id": "enhanced-celebration",
   "metadata": {},
   "outputs": [
    {
     "data": {
      "text/plain": [
       "array([0, 1, 1, 2, 2, 3, 3, 4, 4], dtype=int32)"
      ]
     },
     "execution_count": 15,
     "metadata": {},
     "output_type": "execute_result"
    }
   ],
   "source": [
    "# Floor division (array and scalar)\n",
    "arr // 2"
   ]
  },
  {
   "cell_type": "markdown",
   "id": "armed-salvation",
   "metadata": {},
   "source": [
    "##### Array and Array broadcasting\n",
    "But there are cases where we have to perform operations on two different arrays with different shapes. But as we ealier said, for us to perform operations the arrays should be compatible and the operations occur on elementwise basis. We leverage on the broadcasting concept where arrays have different shapes but based on broadcasting rules are still compatible for arithematic operations. \n",
    "An expression can contain arrays of unequal sizes, and the operation may still be well defined if the smaller array can be broadcasted to match the larger array accordimg to NumPys broadcasting rules, lets explore the rules of broadcasting\n",
    "\n",
    ">>**Broadcasting Rule** states that In order to broadcast, NumPy compares their shapes element-wise. It starts with the trailing (i.e. rightmost) dimensions and works its way left. The size of the trailing axes for both arrays in an operation must either be the same size or one of them must be one.\n",
    "``simply Put Two arrays are compatible for broadcasting if for each trailing dimension (that is, starting from he end), The axis lengths match or if either of the lengths is 1. Broadcasting is then performed over the missing dimension  or the dimension with length 1.``\n",
    "\n",
    "**broadcasting rule mechanism:**\n",
    "\n",
    "*starting from the trailing dimension (i.e the right end ) and working towards the leading dimension (i.e the left begining)*\n",
    "1. If the two arrays differ in their number of dimensions, the shape with fewer dimensions is padded with ones on its leading (left) side.\n",
    "2. If the shape of the two arrays does not match in any dimension, the array with shape equal to 1 in that dimension is stretched to match the other shape.\n",
    "3. If in any dimension the sizes disagree and neither is equal to 1, an error is raised.\n",
    "\n",
    "Lets explore examples for clarity"
   ]
  },
  {
   "cell_type": "markdown",
   "id": "after-direction",
   "metadata": {},
   "source": [
    "##### example 1."
   ]
  },
  {
   "cell_type": "code",
   "execution_count": 16,
   "id": "great-ancient",
   "metadata": {},
   "outputs": [],
   "source": [
    "# Two-dimensional array to a one-dimensional array:\n",
    "x = np.ones((2, 3))\n",
    "y = np.arange(3)"
   ]
  },
  {
   "cell_type": "code",
   "execution_count": 17,
   "id": "systematic-running",
   "metadata": {},
   "outputs": [
    {
     "data": {
      "text/plain": [
       "array([[1., 1., 1.],\n",
       "       [1., 1., 1.]])"
      ]
     },
     "execution_count": 17,
     "metadata": {},
     "output_type": "execute_result"
    }
   ],
   "source": [
    "x"
   ]
  },
  {
   "cell_type": "code",
   "execution_count": 18,
   "id": "proof-missile",
   "metadata": {},
   "outputs": [
    {
     "data": {
      "text/plain": [
       "(2, 3)"
      ]
     },
     "execution_count": 18,
     "metadata": {},
     "output_type": "execute_result"
    }
   ],
   "source": [
    "x.shape"
   ]
  },
  {
   "cell_type": "code",
   "execution_count": 19,
   "id": "leading-wells",
   "metadata": {},
   "outputs": [
    {
     "data": {
      "text/plain": [
       "array([0, 1, 2])"
      ]
     },
     "execution_count": 19,
     "metadata": {},
     "output_type": "execute_result"
    }
   ],
   "source": [
    "y"
   ]
  },
  {
   "cell_type": "code",
   "execution_count": 20,
   "id": "proper-september",
   "metadata": {},
   "outputs": [
    {
     "data": {
      "text/plain": [
       "(3,)"
      ]
     },
     "execution_count": 20,
     "metadata": {},
     "output_type": "execute_result"
    }
   ],
   "source": [
    "y.shape"
   ]
  },
  {
   "cell_type": "markdown",
   "id": "dominican-trout",
   "metadata": {},
   "source": [
    "1. By rule one the size of the trailing dimensions matches, so it proceeds to check the next dimension.\n",
    " + x.shape -> (2, 3)\n",
    " + y.shape -> (3,)\n",
    "   \n",
    "2. We see that array y has fewer dimensions. Since array y is a one-dimensional array, it does not have a leading dimension. So Numpy automatically broadcasts the value ‘1’ to the missing dimension in array y (pad it on the left with one).\n",
    " + x.shape -> (2, 3)\n",
    " + x.shape -> (1, 3)\n",
    "\n",
    "3. Since the next dimension Numpy checks has one of its dimensions equal to 1, it is clear that the broadcasting rules are satisfactory and Numpy allows the arithmetic operation between the two arrays. but to totally  filfill rule 2, since  first dimension disagrees, so we stretch this dimension to match:\n",
    " + x.shape -> (2, 3)\n",
    " + y.shape -> (2, 3)\n",
    "\n",
    "4. The shapes now match, and we see that the shape of the result to be (2, 3):\n",
    "\n"
   ]
  },
  {
   "cell_type": "code",
   "execution_count": 21,
   "id": "hungarian-inquiry",
   "metadata": {},
   "outputs": [
    {
     "data": {
      "text/plain": [
       "array([[1., 2., 3.],\n",
       "       [1., 2., 3.]])"
      ]
     },
     "execution_count": 21,
     "metadata": {},
     "output_type": "execute_result"
    }
   ],
   "source": [
    "# arithematic (Broadcasting performed)\n",
    "x + y"
   ]
  },
  {
   "cell_type": "markdown",
   "id": "inclusive-blair",
   "metadata": {},
   "source": [
    "##### example 2."
   ]
  },
  {
   "cell_type": "code",
   "execution_count": 22,
   "id": "hybrid-binary",
   "metadata": {},
   "outputs": [],
   "source": [
    "# where both arrays will be broadcasted\n",
    "a = np.arange(3).reshape((3, 1))\n",
    "b = np.arange(3)"
   ]
  },
  {
   "cell_type": "code",
   "execution_count": 23,
   "id": "sudden-intelligence",
   "metadata": {},
   "outputs": [
    {
     "data": {
      "text/plain": [
       "array([[0],\n",
       "       [1],\n",
       "       [2]])"
      ]
     },
     "execution_count": 23,
     "metadata": {},
     "output_type": "execute_result"
    }
   ],
   "source": [
    "a"
   ]
  },
  {
   "cell_type": "code",
   "execution_count": 24,
   "id": "medical-tower",
   "metadata": {},
   "outputs": [
    {
     "data": {
      "text/plain": [
       "(3, 1)"
      ]
     },
     "execution_count": 24,
     "metadata": {},
     "output_type": "execute_result"
    }
   ],
   "source": [
    "# Shape of a\n",
    "a.shape"
   ]
  },
  {
   "cell_type": "code",
   "execution_count": 25,
   "id": "threaded-regular",
   "metadata": {},
   "outputs": [
    {
     "data": {
      "text/plain": [
       "array([0, 1, 2])"
      ]
     },
     "execution_count": 25,
     "metadata": {},
     "output_type": "execute_result"
    }
   ],
   "source": [
    "b"
   ]
  },
  {
   "cell_type": "code",
   "execution_count": 26,
   "id": "beneficial-corps",
   "metadata": {},
   "outputs": [
    {
     "data": {
      "text/plain": [
       "(3,)"
      ]
     },
     "execution_count": 26,
     "metadata": {},
     "output_type": "execute_result"
    }
   ],
   "source": [
    "# Shape of b\n",
    "b.shape"
   ]
  },
  {
   "cell_type": "raw",
   "id": "hazardous-variable",
   "metadata": {},
   "source": [
    "a.shape = (3, 1)\n",
    "b.shape = (3,)\n",
    "Rule 1 says we must pad the shape of b with ones:\n",
    "\n",
    "a.shape -> (3, 1)\n",
    "b.shape -> (1, 3)\n",
    "And rule 2 tells us that we upgrade each of these ones to match the corresponding size of the other array:\n",
    "\n",
    "a.shape -> (3, 3)\n",
    "b.shape -> (3, 3)"
   ]
  },
  {
   "cell_type": "code",
   "execution_count": 27,
   "id": "worthy-northern",
   "metadata": {},
   "outputs": [
    {
     "data": {
      "text/plain": [
       "array([[0, 1, 2],\n",
       "       [1, 2, 3],\n",
       "       [2, 3, 4]])"
      ]
     },
     "execution_count": 27,
     "metadata": {},
     "output_type": "execute_result"
    }
   ],
   "source": [
    "a + b"
   ]
  },
  {
   "cell_type": "markdown",
   "id": "systematic-applicant",
   "metadata": {},
   "source": [
    "##### example 3"
   ]
  },
  {
   "cell_type": "code",
   "execution_count": 28,
   "id": "velvet-archive",
   "metadata": {},
   "outputs": [],
   "source": [
    "# Now let's take a look at an example in which the two arrays are not compatible:\n",
    "m = np.ones((3, 2))\n",
    "n = np.arange(3)"
   ]
  },
  {
   "cell_type": "code",
   "execution_count": 29,
   "id": "confused-colombia",
   "metadata": {},
   "outputs": [
    {
     "data": {
      "text/plain": [
       "array([[1., 1.],\n",
       "       [1., 1.],\n",
       "       [1., 1.]])"
      ]
     },
     "execution_count": 29,
     "metadata": {},
     "output_type": "execute_result"
    }
   ],
   "source": [
    "m"
   ]
  },
  {
   "cell_type": "code",
   "execution_count": 30,
   "id": "prerequisite-young",
   "metadata": {},
   "outputs": [
    {
     "data": {
      "text/plain": [
       "(3, 2)"
      ]
     },
     "execution_count": 30,
     "metadata": {},
     "output_type": "execute_result"
    }
   ],
   "source": [
    "# Shape of m\n",
    "m.shape"
   ]
  },
  {
   "cell_type": "code",
   "execution_count": 31,
   "id": "criminal-bacteria",
   "metadata": {},
   "outputs": [
    {
     "data": {
      "text/plain": [
       "array([0, 1, 2])"
      ]
     },
     "execution_count": 31,
     "metadata": {},
     "output_type": "execute_result"
    }
   ],
   "source": [
    "n"
   ]
  },
  {
   "cell_type": "code",
   "execution_count": 32,
   "id": "chemical-capacity",
   "metadata": {},
   "outputs": [
    {
     "data": {
      "text/plain": [
       "(3,)"
      ]
     },
     "execution_count": 32,
     "metadata": {},
     "output_type": "execute_result"
    }
   ],
   "source": [
    "# Shape of n\n",
    "n.shape"
   ]
  },
  {
   "cell_type": "raw",
   "id": "fresh-progress",
   "metadata": {},
   "source": [
    "This is just a slightly different situation than in the first example. The shape of the arrays are\n",
    "\n",
    "m.shape = (3, 2)\n",
    "n.shape = (3,)\n",
    "Again, rule 1 tells us that we must pad the shape of a with ones:\n",
    "\n",
    "m.shape -> (3, 2)\n",
    "n.shape -> (1, 3)\n",
    "By rule 2, the first dimension of a is stretched to match that of M:\n",
    "\n",
    "m.shape -> (3, 2)\n",
    "n.shape -> (3, 3)\n",
    "Now we hit rule 3–the final shapes do not match, so these two arrays are incompatible, as we can observe by attempting this operation:"
   ]
  },
  {
   "cell_type": "code",
   "execution_count": 33,
   "id": "eastern-fraction",
   "metadata": {},
   "outputs": [
    {
     "ename": "ValueError",
     "evalue": "operands could not be broadcast together with shapes (3,2) (3,) ",
     "output_type": "error",
     "traceback": [
      "\u001b[1;31m---------------------------------------------------------------------------\u001b[0m",
      "\u001b[1;31mValueError\u001b[0m                                Traceback (most recent call last)",
      "\u001b[1;32m<ipython-input-33-27219c209e1b>\u001b[0m in \u001b[0;36m<module>\u001b[1;34m\u001b[0m\n\u001b[1;32m----> 1\u001b[1;33m \u001b[0mm\u001b[0m \u001b[1;33m+\u001b[0m \u001b[0mn\u001b[0m\u001b[1;33m\u001b[0m\u001b[1;33m\u001b[0m\u001b[0m\n\u001b[0m",
      "\u001b[1;31mValueError\u001b[0m: operands could not be broadcast together with shapes (3,2) (3,) "
     ]
    }
   ],
   "source": [
    "m + n"
   ]
  },
  {
   "cell_type": "markdown",
   "id": "comfortable-germany",
   "metadata": {},
   "source": [
    "<a id='Universal_functions'></a>  "
   ]
  },
  {
   "cell_type": "markdown",
   "id": "applicable-aluminum",
   "metadata": {},
   "source": [
    "### Universal functions\n",
    "``A universal function also Known as ufunc is a function that performs elementwise operations on data in ndarrays.you can think of them as fast vectorized wrappers for simple functions that take in one or more scalar values and produce one or more scalar results``\n",
    "we can loosely categorize these universal functions as:\n",
    "+ **unary universal functions**\n",
    "+ **binary universal functions**\n"
   ]
  },
  {
   "cell_type": "markdown",
   "id": "photographic-walter",
   "metadata": {},
   "source": [
    "**Unary universal functions**: *f(x) A unary universal function is a mathematical function that only accepts one array and performs elementwise transformations on the array. it does this by mapping the function over the array - applying f(x) to each element within the array, and producing a new array as a result (i.e. the input array is not overwritten).*\n",
    "\n",
    "Function | Description\n",
    ":- | :-\n",
    "np.abs(ndarray) | Calculate the absolute value element-wise.\n",
    "np.exp(ndarray) | Calculate the exponential of all elements in the input array\n",
    "np.sqrt(ndarray) | Return the non-negative square-root of an array, element-wise.\n",
    "np.square(ndarray) | Return the element-wise square of the input\n",
    "np.ceil(ndarray) | Return the ceiling of the input, element-wise (The ceil of the scalar `x` is the smallest integer `i`, such that\n",
    "          | `i >= x`)\n",
    "np.floor(ndarray) | Return the floor of the input, element-wise. (The floor of the scalar `x` is the largest integer `i`, such that\n",
    "           |`i <= x`.)\n",
    "np.rint(ndarray) | Round elements of the array to the nearest integer\n",
    "np.isnan(ndarray) | Test element-wise for NaN and return result as a boolean array.\n",
    "np.sin(ndarray) | Trigonometric sine, element-wise.\n",
    "np.cos(ndarray) | Cosine element-wise.\n",
    "np.tan(ndarray) | Compute tangent element-wise.\n",
    "np.log(ndarray) | Natural logarithm, element-wise.\n",
    "np.reciprocal(ndarray) | Return the reciprocal of the argument, element-wise."
   ]
  },
  {
   "cell_type": "code",
   "execution_count": 34,
   "id": "fifty-difference",
   "metadata": {},
   "outputs": [
    {
     "data": {
      "text/plain": [
       "array([[-50, -48, -46, -44, -42, -40, -38, -36, -34, -32],\n",
       "       [-30, -28, -26, -24, -22, -20, -18, -16, -14, -12],\n",
       "       [-10,  -8,  -6,  -4,  -2,   0,   2,   4,   6,   8],\n",
       "       [ 10,  12,  14,  16,  18,  20,  22,  24,  26,  28],\n",
       "       [ 30,  32,  34,  36,  38,  40,  42,  44,  46,  48]])"
      ]
     },
     "execution_count": 34,
     "metadata": {},
     "output_type": "execute_result"
    }
   ],
   "source": [
    "arr_2d= np.arange(-50,50,2).reshape(5,10)\n",
    "arr_2d"
   ]
  },
  {
   "cell_type": "code",
   "execution_count": 35,
   "id": "double-purchase",
   "metadata": {},
   "outputs": [
    {
     "data": {
      "text/plain": [
       "array([ 1.        ,  1.47368421,  1.94736842,  2.42105263,  2.89473684,\n",
       "        3.36842105,  3.84210526,  4.31578947,  4.78947368,  5.26315789,\n",
       "        5.73684211,  6.21052632,  6.68421053,  7.15789474,  7.63157895,\n",
       "        8.10526316,  8.57894737,  9.05263158,  9.52631579, 10.        ])"
      ]
     },
     "execution_count": 35,
     "metadata": {},
     "output_type": "execute_result"
    }
   ],
   "source": [
    "arr = np.linspace(1,10,20)\n",
    "arr"
   ]
  },
  {
   "cell_type": "code",
   "execution_count": 36,
   "id": "derived-event",
   "metadata": {},
   "outputs": [
    {
     "data": {
      "text/plain": [
       "array([ 1.        ,  1.47368421,  1.94736842,  2.42105263,  2.89473684,\n",
       "        3.36842105,  3.84210526,  4.31578947,  4.78947368,  5.26315789,\n",
       "        5.73684211,  6.21052632,  6.68421053,  7.15789474,  7.63157895,\n",
       "        8.10526316,  8.57894737,  9.05263158,  9.52631579, 10.        ])"
      ]
     },
     "execution_count": 36,
     "metadata": {},
     "output_type": "execute_result"
    }
   ],
   "source": [
    "# Absolute values of array\n",
    "np.abs(arr)"
   ]
  },
  {
   "cell_type": "code",
   "execution_count": 37,
   "id": "imported-beauty",
   "metadata": {},
   "outputs": [
    {
     "data": {
      "text/plain": [
       "array([2.71828183e+00, 4.36528819e+00, 7.01021535e+00, 1.12577033e+01,\n",
       "       1.80787433e+01, 2.90326498e+01, 4.66235260e+01, 7.48727102e+01,\n",
       "       1.20238069e+02, 1.93090288e+02, 3.10083652e+02, 4.97963268e+02,\n",
       "       7.99679103e+02, 1.28420450e+03, 2.06230372e+03, 3.31185309e+03,\n",
       "       5.31850415e+03, 8.54098465e+03, 1.37159654e+04, 2.20264658e+04])"
      ]
     },
     "execution_count": 37,
     "metadata": {},
     "output_type": "execute_result"
    }
   ],
   "source": [
    "# Exponent of array\n",
    "np.exp(arr)"
   ]
  },
  {
   "cell_type": "code",
   "execution_count": 38,
   "id": "familiar-liverpool",
   "metadata": {},
   "outputs": [
    {
     "data": {
      "text/plain": [
       "array([1.        , 1.21395396, 1.39548143, 1.55597321, 1.70139262,\n",
       "       1.83532587, 1.96012889, 2.07744783, 2.18848662, 2.29415734,\n",
       "       2.39517058, 2.49209276, 2.58538402, 2.67542422, 2.76253126,\n",
       "       2.84697439, 2.92898402, 3.00875914, 3.08647303, 3.16227766])"
      ]
     },
     "execution_count": 38,
     "metadata": {},
     "output_type": "execute_result"
    }
   ],
   "source": [
    "# Square root of array\n",
    "np.sqrt(arr)"
   ]
  },
  {
   "cell_type": "code",
   "execution_count": 39,
   "id": "numeric-february",
   "metadata": {},
   "outputs": [
    {
     "data": {
      "text/plain": [
       "array([ 0.84147098,  0.99528832,  0.92993066,  0.65979057,  0.2443563 ,\n",
       "       -0.2248883 , -0.64460967, -0.92237988, -0.99703045, -0.85212237,\n",
       "       -0.51956623, -0.07259508,  0.39036243,  0.76735722,  0.9753703 ,\n",
       "        0.96859457,  0.74852214,  0.36361573, -0.10136344, -0.54402111])"
      ]
     },
     "execution_count": 39,
     "metadata": {},
     "output_type": "execute_result"
    }
   ],
   "source": [
    "# Sin of array elements\n",
    "np.sin(arr)"
   ]
  },
  {
   "cell_type": "code",
   "execution_count": 40,
   "id": "invisible-stamp",
   "metadata": {},
   "outputs": [
    {
     "data": {
      "text/plain": [
       "array([0.        , 0.38776553, 0.66647893, 0.88420242, 1.06289421,\n",
       "       1.2144441 , 1.34602046, 1.46228027, 1.56642053, 1.66073121,\n",
       "       1.7469089 , 1.82624565, 1.89974811, 1.96821591, 2.03229476,\n",
       "       2.09251362, 2.14931122, 2.2030555 , 2.25405805, 2.30258509])"
      ]
     },
     "execution_count": 40,
     "metadata": {},
     "output_type": "execute_result"
    }
   ],
   "source": [
    "# Log of array elements\n",
    "np.log(arr)"
   ]
  },
  {
   "cell_type": "markdown",
   "id": "worthy-occurrence",
   "metadata": {},
   "source": [
    "**Binary universal functions:** *f(x,y) binary universal function is a numpy mathematical function that accepts two arrays The operation can be between two arrays or an array and a scalar* \n",
    "+ *Applying a binary NumPy-function, f(x,y), to two same-shape arrays will apply f(x,y) to each of their pairwise elements, producing an array of the same shape as either of the operands.*\n",
    "+ *Applying a binary NumPy function, f(x,y), to an array and a scalar amounts to “distributing” the function elementwise over the array, everywhere utilizing the scalar as the other operand for the binary function*\n",
    "\n",
    "function | Description\n",
    ":- | :-\n",
    "np.add(x1, x2) | Add arguments element-wise.\n",
    "np.subtract(x1, x2) | Subtract arguments, element-wise\n",
    "np.multiply(x1, x2) | Multiply arguments element-wise.\n",
    "np.divide(x1, x2) | Multiply arguments element-wise.\n",
    "np.power(x1, x2) | First array elements raised to powers from second array, element-wise.\n",
    "np.mod(x1, x2) | Return element-wise remainder of division.\n",
    "np.maximum(x1, x2) | Element-wise maximum of array elements.\n",
    "np.minimum(x1, x2) | Element-wise minimum of array elements.\n",
    "np.equal(x1, x2) | Return (x1 == x2) element-wise.\n",
    "np.not_equal(x1, x2) | Return (x1 != x2) element-wise.\n",
    "np.greater(x1, x2) | Return the truth value of (x1 > x2) element-wise.\n",
    "np.greater_equal(x1, x2) | Return the truth value of (x1 >= x2) element-wise.\n",
    "np.less(x1, x2) | Return the truth value of (x1 < x2) element-wise.\n",
    "np.less_equal(x1, x2) | Return the truth value of (x1 =< x2) element-wise.\n",
    "np.round(a, decimals= ) | Round an array to the given number of decimals"
   ]
  },
  {
   "cell_type": "code",
   "execution_count": 41,
   "id": "acquired-pilot",
   "metadata": {},
   "outputs": [
    {
     "data": {
      "text/plain": [
       "array([[ 0,  2,  4,  6,  8],\n",
       "       [10, 12, 14, 16, 18],\n",
       "       [20, 22, 24, 26, 28],\n",
       "       [30, 32, 34, 36, 38]])"
      ]
     },
     "execution_count": 41,
     "metadata": {},
     "output_type": "execute_result"
    }
   ],
   "source": [
    "data1  = np.arange(0,40,2).reshape((4,5))\n",
    "data1"
   ]
  },
  {
   "cell_type": "code",
   "execution_count": 42,
   "id": "atomic-workplace",
   "metadata": {},
   "outputs": [
    {
     "data": {
      "text/plain": [
       "array([[ 1,  2,  3,  4,  5],\n",
       "       [ 6,  7,  8,  9, 10],\n",
       "       [11, 12, 13, 14, 15],\n",
       "       [16, 17, 18, 19, 20]])"
      ]
     },
     "execution_count": 42,
     "metadata": {},
     "output_type": "execute_result"
    }
   ],
   "source": [
    "data2 = np.arange(1,21).reshape((4,5))\n",
    "data2"
   ]
  },
  {
   "cell_type": "code",
   "execution_count": 43,
   "id": "spatial-manner",
   "metadata": {},
   "outputs": [
    {
     "data": {
      "text/plain": [
       "array([[ 1,  4,  7, 10, 13],\n",
       "       [16, 19, 22, 25, 28],\n",
       "       [31, 34, 37, 40, 43],\n",
       "       [46, 49, 52, 55, 58]])"
      ]
     },
     "execution_count": 43,
     "metadata": {},
     "output_type": "execute_result"
    }
   ],
   "source": [
    "# Adding two arrays\n",
    "np.add(data1,data2)"
   ]
  },
  {
   "cell_type": "code",
   "execution_count": 44,
   "id": "intellectual-dubai",
   "metadata": {},
   "outputs": [
    {
     "data": {
      "text/plain": [
       "array([[-1,  0,  1,  2,  3],\n",
       "       [ 4,  5,  6,  7,  8],\n",
       "       [ 9, 10, 11, 12, 13],\n",
       "       [14, 15, 16, 17, 18]])"
      ]
     },
     "execution_count": 44,
     "metadata": {},
     "output_type": "execute_result"
    }
   ],
   "source": [
    "# Subtracting two arrays\n",
    "np.subtract(data1,data2)"
   ]
  },
  {
   "cell_type": "code",
   "execution_count": 45,
   "id": "moderate-commercial",
   "metadata": {},
   "outputs": [
    {
     "data": {
      "text/plain": [
       "array([[   0,    4,   16,   36,   64],\n",
       "       [ 100,  144,  196,  256,  324],\n",
       "       [ 400,  484,  576,  676,  784],\n",
       "       [ 900, 1024, 1156, 1296, 1444]], dtype=int32)"
      ]
     },
     "execution_count": 45,
     "metadata": {},
     "output_type": "execute_result"
    }
   ],
   "source": [
    "# Raising the power of an array by a scalar\n",
    "np.power(data1,2)"
   ]
  },
  {
   "cell_type": "code",
   "execution_count": 46,
   "id": "mounted-vanilla",
   "metadata": {},
   "outputs": [
    {
     "data": {
      "text/plain": [
       "array([[False, False, False, False, False],\n",
       "       [False, False, False, False, False],\n",
       "       [False, False,  True,  True,  True],\n",
       "       [ True,  True,  True,  True,  True]])"
      ]
     },
     "execution_count": 46,
     "metadata": {},
     "output_type": "execute_result"
    }
   ],
   "source": [
    "# Compairson between array and scalar\n",
    "np.greater(data1,23)"
   ]
  },
  {
   "cell_type": "code",
   "execution_count": 47,
   "id": "anonymous-malaysia",
   "metadata": {},
   "outputs": [
    {
     "data": {
      "text/plain": [
       "array([[False,  True,  True,  True,  True],\n",
       "       [ True,  True,  True,  True,  True],\n",
       "       [ True,  True,  True,  True,  True],\n",
       "       [ True,  True,  True,  True,  True]])"
      ]
     },
     "execution_count": 47,
     "metadata": {},
     "output_type": "execute_result"
    }
   ],
   "source": [
    "# Comparison between two arrays\n",
    "np.less_equal(data2,data1)"
   ]
  },
  {
   "cell_type": "markdown",
   "id": "metric-platform",
   "metadata": {},
   "source": [
    "[click here for more universal functions](https://numpy.org/doc/stable/reference/ufuncs.html#available-ufuncs)"
   ]
  },
  {
   "cell_type": "markdown",
   "id": "coastal-stack",
   "metadata": {},
   "source": [
    "**Aggregate Functions:** *A sequential function expects a variable-length sequence of numbers as an input, and produces a single number as an output. These aggregate functions  calculates aggregates for Numpy arrays. They take in an array as input and by default return a scalar output. for example statistics such as averages, standard deviations and variances of the values in the input array and functions for calculating the cumulative sum or products of elements in an array ar all aggregate functions (By default each NumPy aggregation function will return the aggregate over the entire array)*\n",
    "\n",
    "**Multidimensional Aggregates** *are aggregation operations carried out along a row or column in a multidimensional array, the row or column of interest is specified with the **axis** argument*. \n",
    "\n",
    "function | Description\n",
    ":- | :-\n",
    "np.sum(a,axis) | Sum of array elements over an array or a given axis.\n",
    "np.prod(a,axis) | Return the product of array element over an array or a given axis.\n",
    "np.mean(a,axis) | Compute the arithmetic mean of anarray or along the specified axis.\n",
    "np.std(a,axis) | Compute the standard deviation along the specified axis.\n",
    "np.var(a,axis) | Compute the variance along the specified axis\n",
    "np.min(a,axis) | Return the minimum of an array or minimum along an axis.\n",
    "np.max(a,axis) | Return the maximum of an array or maximum along an axis\n",
    "np.argmin(a,axis) | Returns the indices of the minimum values along an axis.\n",
    "np.argmax(a,axis) | Returns the indices of the maximum values along an axis.\n",
    "np.median(a,axis) | Compute the median along the specified axis.\n",
    "np.percentile( a,q,axis) | Compute the q-th percentile of the data along the specified axis\n",
    "np.any(a, axis) | Test whether any array element along a given axis evaluates to True.\n",
    "np.all(a, axis) | Test whether all array elements along a given axis evaluate to True.\n",
    "np.cumprod(a, axis) | Return the cumulative product of elements along a given axis.\n",
    "np.cumsum(a, axis) | Return the cumulative sum of the elements along a given axis.\n",
    "np.corrcoef()    \n"
   ]
  },
  {
   "cell_type": "code",
   "execution_count": 48,
   "id": "rising-dream",
   "metadata": {},
   "outputs": [
    {
     "data": {
      "text/plain": [
       "array([[ 0,  2,  4,  6,  8],\n",
       "       [10, 12, 14, 16, 18],\n",
       "       [20, 22, 24, 26, 28],\n",
       "       [30, 32, 34, 36, 38]])"
      ]
     },
     "execution_count": 48,
     "metadata": {},
     "output_type": "execute_result"
    }
   ],
   "source": [
    "data1"
   ]
  },
  {
   "cell_type": "code",
   "execution_count": 49,
   "id": "documentary-wednesday",
   "metadata": {},
   "outputs": [
    {
     "data": {
      "text/plain": [
       "380"
      ]
     },
     "execution_count": 49,
     "metadata": {},
     "output_type": "execute_result"
    }
   ],
   "source": [
    "# Sum of elements in an array\n",
    "np.sum(data1)"
   ]
  },
  {
   "cell_type": "code",
   "execution_count": 50,
   "id": "pleasant-belfast",
   "metadata": {},
   "outputs": [
    {
     "data": {
      "text/plain": [
       "array([  0,   2,   6,  12,  20,  30,  42,  56,  72,  90, 110, 132, 156,\n",
       "       182, 210, 240, 272, 306, 342, 380], dtype=int32)"
      ]
     },
     "execution_count": 50,
     "metadata": {},
     "output_type": "execute_result"
    }
   ],
   "source": [
    "# Cumulative sum of array elements\n",
    "np.cumsum(data1)"
   ]
  },
  {
   "cell_type": "code",
   "execution_count": 51,
   "id": "mature-calcium",
   "metadata": {},
   "outputs": [
    {
     "data": {
      "text/plain": [
       "array([2.82842712, 2.82842712, 2.82842712, 2.82842712])"
      ]
     },
     "execution_count": 51,
     "metadata": {},
     "output_type": "execute_result"
    }
   ],
   "source": [
    "# Standard deviation of array elements across axis 1\n",
    "np.std(data1,axis=1)"
   ]
  },
  {
   "cell_type": "code",
   "execution_count": 52,
   "id": "offensive-acting",
   "metadata": {},
   "outputs": [
    {
     "data": {
      "text/plain": [
       "array([3, 3, 3, 3, 3], dtype=int64)"
      ]
     },
     "execution_count": 52,
     "metadata": {},
     "output_type": "execute_result"
    }
   ],
   "source": [
    "# Argmax (the indices of maximum values down axis 0 )\n",
    "np.argmax(data1,axis=0)"
   ]
  },
  {
   "cell_type": "code",
   "execution_count": 53,
   "id": "competent-wright",
   "metadata": {},
   "outputs": [
    {
     "data": {
      "text/plain": [
       "array([15., 17., 19., 21., 23.])"
      ]
     },
     "execution_count": 53,
     "metadata": {},
     "output_type": "execute_result"
    }
   ],
   "source": [
    "# Mean of array down axis 0\n",
    "np.mean(data1, axis=0)"
   ]
  },
  {
   "cell_type": "code",
   "execution_count": 54,
   "id": "alien-acrobat",
   "metadata": {},
   "outputs": [
    {
     "data": {
      "text/plain": [
       "array([15., 17., 19., 21., 23.])"
      ]
     },
     "execution_count": 54,
     "metadata": {},
     "output_type": "execute_result"
    }
   ],
   "source": [
    "# The 50th percentile across axis 0, which is still the mean\n",
    "np.percentile(data1,50,axis=0)"
   ]
  },
  {
   "cell_type": "code",
   "execution_count": 55,
   "id": "thirty-sustainability",
   "metadata": {},
   "outputs": [
    {
     "data": {
      "text/plain": [
       "True"
      ]
     },
     "execution_count": 55,
     "metadata": {},
     "output_type": "execute_result"
    }
   ],
   "source": [
    "# Testing for any element that meets the condition of the compairson expression\n",
    "np.any(np.greater(data1,23))"
   ]
  },
  {
   "cell_type": "code",
   "execution_count": 56,
   "id": "statistical-category",
   "metadata": {},
   "outputs": [
    {
     "data": {
      "text/plain": [
       "True"
      ]
     },
     "execution_count": 56,
     "metadata": {},
     "output_type": "execute_result"
    }
   ],
   "source": [
    "# Testing if all elements meets the condition of the compairson expression\n",
    "np.all(np.equal(data1,data1))"
   ]
  },
  {
   "cell_type": "code",
   "execution_count": 57,
   "id": "premier-trunk",
   "metadata": {},
   "outputs": [
    {
     "data": {
      "text/plain": [
       "False"
      ]
     },
     "execution_count": 57,
     "metadata": {},
     "output_type": "execute_result"
    }
   ],
   "source": [
    "# Testing if all elements meets the condition of the compairson expression\n",
    "np.all(np.less_equal(data2,data1))"
   ]
  },
  {
   "cell_type": "markdown",
   "id": "ecological-realtor",
   "metadata": {},
   "source": [
    "<a id='Set_operations'></a>"
   ]
  },
  {
   "cell_type": "markdown",
   "id": "productive-johnston",
   "metadata": {},
   "source": [
    "### Set operations\n",
    "\n",
    "\n",
    "similar to Python set data structures for unordered collections of unique objects, Numpy array class ``ndarray`` provides functions operating on such sets. The table below presents NumPy functions for set operations\n",
    "\n",
    "Function | Description\n",
    ":- | :-\n",
    "np.unique(ar) | Find the unique elements of an array. (repeated elements are returned only once)\n",
    "np.in1d(ar1, ar2) | Test whether each element of a 1-D array is also present in a second array.\n",
    "np.intersect1d(ar1, ar2) | Find the intersection of two arrays.\n",
    "np.setdiff1d(ar1, ar2) | Find the set difference of two arrays.\n",
    "np.union1d(ar1, ar2) | Find the union of two arrays.\n",
    "np.setxor1d(ar1, ar2) | Find set symetric difference: elements that are in either of the arrays but not both"
   ]
  },
  {
   "cell_type": "code",
   "execution_count": 58,
   "id": "endless-duration",
   "metadata": {},
   "outputs": [
    {
     "data": {
      "text/plain": [
       "array([ 1,  1,  1,  1,  2,  2,  2,  3,  3,  3,  4,  4,  4,  5,  5,  5,  5,\n",
       "        5,  6,  6,  6,  2,  4,  5,  6,  7, 54,  3, 23, 45,  3, 23])"
      ]
     },
     "execution_count": 58,
     "metadata": {},
     "output_type": "execute_result"
    }
   ],
   "source": [
    "data3 = np.array([1,1,1,1,2,2,2,3,3,3,4,4,4,5,5,5,5,5,6,6,6,2,4,5,6,7,54,3,23,45,3,23])\n",
    "data3"
   ]
  },
  {
   "cell_type": "code",
   "execution_count": 59,
   "id": "considered-blood",
   "metadata": {},
   "outputs": [
    {
     "data": {
      "text/plain": [
       "array([22,  3,  2,  4,  6, 54, 83,  7])"
      ]
     },
     "execution_count": 59,
     "metadata": {},
     "output_type": "execute_result"
    }
   ],
   "source": [
    "data4 = np.array([22,3,2,4,6,54,83,7])\n",
    "data4"
   ]
  },
  {
   "cell_type": "code",
   "execution_count": 60,
   "id": "multiple-charlotte",
   "metadata": {},
   "outputs": [
    {
     "data": {
      "text/plain": [
       "array([ 1,  2,  3,  4,  5,  6,  7, 23, 45, 54])"
      ]
     },
     "execution_count": 60,
     "metadata": {},
     "output_type": "execute_result"
    }
   ],
   "source": [
    "# Creating array with unique elements\n",
    "set1 = np.unique(data3)\n",
    "set1"
   ]
  },
  {
   "cell_type": "code",
   "execution_count": 61,
   "id": "contemporary-architect",
   "metadata": {},
   "outputs": [
    {
     "data": {
      "text/plain": [
       "array([ 2,  3,  4,  6,  7, 22, 54, 83])"
      ]
     },
     "execution_count": 61,
     "metadata": {},
     "output_type": "execute_result"
    }
   ],
   "source": [
    "# Creating array with unique elements\n",
    "set2 = np.unique(data4)\n",
    "set2"
   ]
  },
  {
   "cell_type": "code",
   "execution_count": 62,
   "id": "irish-witness",
   "metadata": {},
   "outputs": [
    {
     "data": {
      "text/plain": [
       "array([ 2,  3,  4,  6,  7, 54])"
      ]
     },
     "execution_count": 62,
     "metadata": {},
     "output_type": "execute_result"
    }
   ],
   "source": [
    "# Testing whether each element in set1, is also in set2\n",
    "set2[np.in1d(set2,set1)]"
   ]
  },
  {
   "cell_type": "code",
   "execution_count": 63,
   "id": "numeric-storage",
   "metadata": {},
   "outputs": [
    {
     "data": {
      "text/plain": [
       "array([ 2,  3,  4,  6,  7, 54])"
      ]
     },
     "execution_count": 63,
     "metadata": {},
     "output_type": "execute_result"
    }
   ],
   "source": [
    "# Finding the intersection of both sets\n",
    "np.intersect1d(set1,set2)"
   ]
  },
  {
   "cell_type": "code",
   "execution_count": 64,
   "id": "russian-guarantee",
   "metadata": {},
   "outputs": [
    {
     "data": {
      "text/plain": [
       "array([ 1,  5, 23, 45])"
      ]
     },
     "execution_count": 64,
     "metadata": {},
     "output_type": "execute_result"
    }
   ],
   "source": [
    "# Finding the set difference\n",
    "np.setdiff1d(set1,set2)"
   ]
  },
  {
   "cell_type": "code",
   "execution_count": 65,
   "id": "numeric-complexity",
   "metadata": {},
   "outputs": [
    {
     "data": {
      "text/plain": [
       "array([ 1,  2,  3,  4,  5,  6,  7, 22, 23, 45, 54, 83])"
      ]
     },
     "execution_count": 65,
     "metadata": {},
     "output_type": "execute_result"
    }
   ],
   "source": [
    "# The union of both sets\n",
    "np.union1d(set1,set2)"
   ]
  },
  {
   "cell_type": "code",
   "execution_count": 66,
   "id": "dramatic-humor",
   "metadata": {},
   "outputs": [
    {
     "data": {
      "text/plain": [
       "array([ 1,  5, 22, 23, 45, 83])"
      ]
     },
     "execution_count": 66,
     "metadata": {},
     "output_type": "execute_result"
    }
   ],
   "source": [
    "# The symetric difference\n",
    "np.setxor1d(set1,set2)"
   ]
  },
  {
   "cell_type": "markdown",
   "id": "gross-stroke",
   "metadata": {},
   "source": [
    "<a id='saving_arrays'></a> "
   ]
  },
  {
   "cell_type": "markdown",
   "id": "whole-funds",
   "metadata": {},
   "source": [
    "### Saving  Arrays"
   ]
  },
  {
   "cell_type": "markdown",
   "id": "surgical-czech",
   "metadata": {},
   "source": [
    "when you are done with the array and you desire to save the array to a file, Numpy also provides functions for this purpose.\n",
    "below is a table of functions to save an array\n",
    "\n",
    "Function | Description\n",
    ":- | :-\n",
    "np.save(file, arr) | Save an array to a binary file in NumPy ``.npy`` format.\n",
    "np.savetxt(fname,X,delimiter) | Save an array to a text file.\n"
   ]
  },
  {
   "cell_type": "code",
   "execution_count": 67,
   "id": "removable-humor",
   "metadata": {},
   "outputs": [],
   "source": [
    "x = np.arange(0.0,5.0,1.0)\n",
    "# Saving an array\n",
    "np.savetxt('test.out', x, delimiter=',')"
   ]
  }
 ],
 "metadata": {
  "kernelspec": {
   "display_name": "Python 3",
   "language": "python",
   "name": "python3"
  },
  "language_info": {
   "codemirror_mode": {
    "name": "ipython",
    "version": 3
   },
   "file_extension": ".py",
   "mimetype": "text/x-python",
   "name": "python",
   "nbconvert_exporter": "python",
   "pygments_lexer": "ipython3",
   "version": "3.8.8"
  }
 },
 "nbformat": 4,
 "nbformat_minor": 5
}
