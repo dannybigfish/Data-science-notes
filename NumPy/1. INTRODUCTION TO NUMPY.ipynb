{
 "cells": [
  {
   "cell_type": "markdown",
   "id": "widespread-laptop",
   "metadata": {},
   "source": [
    "# Introduction to NumPy Arrays\n",
    "NumPy (short for Numerical Python) is a linear algebra library that provides data structures for rsepresenting a rich veriety of  arrays,and methods and functions for operationg on such arrays.\n",
    "\n",
    "The focus of this note will be on the NumPy ndarray class (used to instantiate a multidimensional array object).\n",
    "\n",
    "The NumPy ndarray is a fast and flexible multidimensional container for large and homogenous data sets. Homogenous in the sense  that all elements will be of the same data type. Besides the data stored in the array, the data structure also contains  important metadata about the array which can be accessed with attributes such as (shape,size,dtype, etc...)\n",
    "\n",
    "This Note will cover:\n",
    "+ [Attributes](#Attributes)\n",
    "+ [Basic data types](#Basic_data_types)\n",
    "+ [Creating ndarrays](#Creating_ndarrays)"
   ]
  },
  {
   "cell_type": "code",
   "execution_count": 1,
   "id": "pleased-voltage",
   "metadata": {},
   "outputs": [],
   "source": [
    "# import numpy module as np\n",
    "import numpy as np"
   ]
  },
  {
   "cell_type": "markdown",
   "id": "unknown-arkansas",
   "metadata": {},
   "source": [
    "*The NumPy module was imported as np, this is done by convention and for convenience, hence we can access the methods and attributes of NumPy using the np name space. The fundanemtal way of creating an array object is by using the array function, and passing in a list.* "
   ]
  },
  {
   "cell_type": "code",
   "execution_count": 17,
   "id": "numerous-ladder",
   "metadata": {},
   "outputs": [],
   "source": [
    "list1 = [1,2,3,4,5,6]\n",
    "list2 = [[1,2,3],[4,5,6],[7,8,9]]\n",
    "\n",
    "arr_1d = np.array(list1, dtype = np.float32)\n",
    "arr_2d = np.array(list2, dtype = np.int32)"
   ]
  },
  {
   "cell_type": "code",
   "execution_count": 18,
   "id": "finite-jackson",
   "metadata": {},
   "outputs": [
    {
     "data": {
      "text/plain": [
       "array([1., 2., 3., 4., 5., 6.], dtype=float32)"
      ]
     },
     "execution_count": 18,
     "metadata": {},
     "output_type": "execute_result"
    }
   ],
   "source": [
    "# One dimensional array\n",
    "arr_1d"
   ]
  },
  {
   "cell_type": "code",
   "execution_count": 19,
   "id": "retired-camera",
   "metadata": {},
   "outputs": [
    {
     "data": {
      "text/plain": [
       "array([[1, 2, 3],\n",
       "       [4, 5, 6],\n",
       "       [7, 8, 9]])"
      ]
     },
     "execution_count": 19,
     "metadata": {},
     "output_type": "execute_result"
    }
   ],
   "source": [
    "#Two dimensional array created by passing a list of list\n",
    "arr_2d"
   ]
  },
  {
   "cell_type": "code",
   "execution_count": 20,
   "id": "theoretical-slope",
   "metadata": {},
   "outputs": [
    {
     "data": {
      "text/plain": [
       "numpy.ndarray"
      ]
     },
     "execution_count": 20,
     "metadata": {},
     "output_type": "execute_result"
    }
   ],
   "source": [
    "type(arr_1d)"
   ]
  },
  {
   "cell_type": "markdown",
   "id": "fatal-submission",
   "metadata": {},
   "source": [
    "**NB** *To quickly know the dimension of an array, count the number of opening or closing brackets, a one dimension array has just one opening or closing bracket, while a two dimension has two.*"
   ]
  },
  {
   "cell_type": "markdown",
   "id": "automatic-fairy",
   "metadata": {},
   "source": [
    "<a id='Attributes'></a>"
   ]
  },
  {
   "cell_type": "markdown",
   "id": "reserved-earth",
   "metadata": {},
   "source": [
    "# Attributes\n",
    "As stated earlier, the array object has some metadata about the array that can be accessed as attributes:  \n",
    "**np.ndarray** *is loosely used to refere to a NumPy array object*\n",
    "\n",
    "Attribute | Function | Description\n",
    ":- | :- | :-\n",
    "shape |np.ndarray.shape | A tuple that contains the number of elements for each dimension (axis) of the array\n",
    "size |np.ndarray.size | The total number of elements in the array\n",
    "ndim |np.ndarray.ndim | Number of dimensions (axis)\n",
    "nbytes| np.ndarray.nbytes | Number of bytes used to store the data\n",
    "dtype |np.ndarray.dtype | The datatype of the elements in the array\n",
    "itemsize |np.ndarray.itemsize| The size in bytes of each array element"
   ]
  },
  {
   "cell_type": "code",
   "execution_count": 5,
   "id": "brilliant-alloy",
   "metadata": {},
   "outputs": [
    {
     "data": {
      "text/plain": [
       "(3, 3)"
      ]
     },
     "execution_count": 5,
     "metadata": {},
     "output_type": "execute_result"
    }
   ],
   "source": [
    "# Shape of the array\n",
    "arr_2d.shape"
   ]
  },
  {
   "cell_type": "code",
   "execution_count": 6,
   "id": "disciplinary-tiffany",
   "metadata": {},
   "outputs": [
    {
     "data": {
      "text/plain": [
       "9"
      ]
     },
     "execution_count": 6,
     "metadata": {},
     "output_type": "execute_result"
    }
   ],
   "source": [
    "# Size of the array\n",
    "arr_2d.size"
   ]
  },
  {
   "cell_type": "code",
   "execution_count": 7,
   "id": "legendary-flexibility",
   "metadata": {},
   "outputs": [
    {
     "data": {
      "text/plain": [
       "2"
      ]
     },
     "execution_count": 7,
     "metadata": {},
     "output_type": "execute_result"
    }
   ],
   "source": [
    "# Number of dimension\n",
    "arr_2d.ndim"
   ]
  },
  {
   "cell_type": "code",
   "execution_count": 8,
   "id": "blocked-terrorism",
   "metadata": {},
   "outputs": [
    {
     "data": {
      "text/plain": [
       "36"
      ]
     },
     "execution_count": 8,
     "metadata": {},
     "output_type": "execute_result"
    }
   ],
   "source": [
    "# Number of bytes of array\n",
    "arr_2d.nbytes"
   ]
  },
  {
   "cell_type": "code",
   "execution_count": 9,
   "id": "convinced-texture",
   "metadata": {},
   "outputs": [
    {
     "data": {
      "text/plain": [
       "dtype('int32')"
      ]
     },
     "execution_count": 9,
     "metadata": {},
     "output_type": "execute_result"
    }
   ],
   "source": [
    "# Type of data stored in array\n",
    "arr_2d.dtype"
   ]
  },
  {
   "cell_type": "code",
   "execution_count": 10,
   "id": "timely-result",
   "metadata": {},
   "outputs": [
    {
     "data": {
      "text/plain": [
       "4"
      ]
     },
     "execution_count": 10,
     "metadata": {},
     "output_type": "execute_result"
    }
   ],
   "source": [
    "# Size of each item in bytes\n",
    "arr_2d.itemsize"
   ]
  },
  {
   "cell_type": "markdown",
   "id": "obvious-essay",
   "metadata": {},
   "source": [
    "<a id='Basic_data_types'></a> "
   ]
  },
  {
   "cell_type": "markdown",
   "id": "valued-spray",
   "metadata": {},
   "source": [
    "# Basic Data types\n",
    "NumPy arrays contain homogenous data with fixed data-types. As seen in the attribute section where we saw the dtype attribute, there are various data-types and we can choose a data-type to use based on purpose.\n",
    "\n",
    "The required data-type can be specified when creating an array by passing in the data-type as a argument to the dtype parameter, Just as we did while creating arr_1d and arr_2d\n",
    "\n",
    "below are the basic data types:\n",
    "\n",
    "dtype | Variant | Description\n",
    ":-|:-:|-:\n",
    "**int** | int8, int16, int32, int64 | Integers\n",
    "**unit** |unit8, unit16,unit32, unit64 |Unsigned(non negative) integers \n",
    "**bool** | bool | Boolean (True or False)\n",
    "**float** | float16, float32, float64, float128 | Floating point numbers\n",
    "**complex** | complex64, complex128, complex256 | Complex- valued floating point Numbers"
   ]
  },
  {
   "cell_type": "code",
   "execution_count": 21,
   "id": "presidential-russian",
   "metadata": {},
   "outputs": [
    {
     "data": {
      "text/plain": [
       "numpy.int8"
      ]
     },
     "execution_count": 21,
     "metadata": {},
     "output_type": "execute_result"
    }
   ],
   "source": [
    "# Initializing a data type\n",
    "np.int8"
   ]
  },
  {
   "cell_type": "code",
   "execution_count": 22,
   "id": "eight-chancellor",
   "metadata": {},
   "outputs": [
    {
     "data": {
      "text/plain": [
       "nan"
      ]
     },
     "execution_count": 22,
     "metadata": {},
     "output_type": "execute_result"
    }
   ],
   "source": [
    "np.nan"
   ]
  },
  {
   "cell_type": "markdown",
   "id": "lightweight-footage",
   "metadata": {},
   "source": [
    "<a id='Creating_ndarrays'></a>"
   ]
  },
  {
   "cell_type": "markdown",
   "id": "offensive-macro",
   "metadata": {},
   "source": [
    "# Creating ndarray\n",
    "There are various ways to create a NumPy array depending on the properties and application. Previously we created an array by using  the np.array function and passing a list to it, the limitation of this method is that its mainly for small arrays. There are situations where we need to create arrays that follow a given rule such as: arrays filled with constant values, increasing integers, uniformly spaced numbers, random numbers or even read data stored in a file. NumPy presents diffeerent ways to handle these requirements. The following subsections explore the various array creation methods "
   ]
  },
  {
   "cell_type": "markdown",
   "id": "digital-front",
   "metadata": {},
   "source": [
    "#### Arrays Filled with Constant Values\n",
    "Function | Description \n",
    ":-|:-\n",
    "np.zeros(shape,dtype) | Create an array with the specidied dimension(shape) and data type filled with zeros\n",
    "np.ones(shape,dtype) | Create an array with the specidied dimension(shape) and data type filled with ones\n",
    "np.full(shape, fill_value, dtype=None,) | Return a new array of given shape and type, filled with `fill_value`\n",
    "np.empty(shape, dtype=float) | Return a new array of given shape and type, without initializing entries \n",
    "\n",
    "**NB** *When the shape is two dimnemsion the parameters should pe pass as a tuple (rows,colums). If its one dimension the length is an integer, its also optional to specify the data-type*"
   ]
  },
  {
   "cell_type": "code",
   "execution_count": 23,
   "id": "stretch-pursuit",
   "metadata": {},
   "outputs": [
    {
     "data": {
      "text/plain": [
       "array([[0, 0, 0, 0, 0],\n",
       "       [0, 0, 0, 0, 0],\n",
       "       [0, 0, 0, 0, 0],\n",
       "       [0, 0, 0, 0, 0]], dtype=int16)"
      ]
     },
     "execution_count": 23,
     "metadata": {},
     "output_type": "execute_result"
    }
   ],
   "source": [
    "# Two dimension 4X5 array filled with zeros\n",
    "np.zeros(shape=(4,5), dtype = np.int16)"
   ]
  },
  {
   "cell_type": "code",
   "execution_count": 11,
   "id": "false-circular",
   "metadata": {},
   "outputs": [
    {
     "data": {
      "text/plain": [
       "array([1, 1, 1, 1, 1, 1, 1, 1, 1], dtype=int16)"
      ]
     },
     "execution_count": 11,
     "metadata": {},
     "output_type": "execute_result"
    }
   ],
   "source": [
    "# One dimension array of lenght 9 filled with ones\n",
    "np.ones(shape = 9, dtype = np.int16)"
   ]
  },
  {
   "cell_type": "code",
   "execution_count": 12,
   "id": "nominated-virgin",
   "metadata": {},
   "outputs": [
    {
     "data": {
      "text/plain": [
       "array([[9, 9, 9],\n",
       "       [9, 9, 9]], dtype=int8)"
      ]
     },
     "execution_count": 12,
     "metadata": {},
     "output_type": "execute_result"
    }
   ],
   "source": [
    "# Two dimension 2X3 array filled with 9\n",
    "np.full((2,3),9,np.int8)"
   ]
  },
  {
   "cell_type": "code",
   "execution_count": 13,
   "id": "extra-cookbook",
   "metadata": {},
   "outputs": [
    {
     "data": {
      "text/plain": [
       "array([[6.11003386e-312, 3.16202013e-322, 0.00000000e+000],\n",
       "       [0.00000000e+000, 0.00000000e+000, 2.49172956e+180],\n",
       "       [1.72425188e-047, 4.75731737e-038, 4.79492569e-037],\n",
       "       [6.29103101e-066, 2.08928336e-076, 2.80366266e-032]])"
      ]
     },
     "execution_count": 13,
     "metadata": {},
     "output_type": "execute_result"
    }
   ],
   "source": [
    "#  Two dimension 4X3 Array of uninitialized (arbitrary) data of the given shape\n",
    "np.empty((4,3))"
   ]
  },
  {
   "cell_type": "markdown",
   "id": "wanted-salad",
   "metadata": {},
   "source": [
    "#### Array Filled with incremental Sequences\n",
    "Function | Description \n",
    ":-|:-\n",
    "np.arange(start,stop,step) | Return evenly spaced values between the specified start, stop and increament values. the stop value is excluded     \n",
    "np.linspace(start,stop,num) | Return evenly spaced values within the specified start, stop. suing the specified number of elements"
   ]
  },
  {
   "cell_type": "code",
   "execution_count": 14,
   "id": "established-heather",
   "metadata": {},
   "outputs": [
    {
     "data": {
      "text/plain": [
       "array([ 0,  2,  4,  6,  8, 10, 12, 14, 16, 18])"
      ]
     },
     "execution_count": 14,
     "metadata": {},
     "output_type": "execute_result"
    }
   ],
   "source": [
    "# Array of evenly spaced values between 0 and 20, the end value is excluded\n",
    "np.arange(0,20,2)"
   ]
  },
  {
   "cell_type": "code",
   "execution_count": 15,
   "id": "familiar-border",
   "metadata": {},
   "outputs": [
    {
     "data": {
      "text/plain": [
       "array([ 0.        ,  2.22222222,  4.44444444,  6.66666667,  8.88888889,\n",
       "       11.11111111, 13.33333333, 15.55555556, 17.77777778, 20.        ])"
      ]
     },
     "execution_count": 15,
     "metadata": {},
     "output_type": "execute_result"
    }
   ],
   "source": [
    "# Array of 10 equally spaced samples between 0 and 20\n",
    "np.linspace(0,20,10)"
   ]
  },
  {
   "cell_type": "markdown",
   "id": "plastic-aluminum",
   "metadata": {},
   "source": [
    "#### Array filled with properties of other other Arrays \n",
    "Function | Description \n",
    ":-|:-\n",
    "np.ones_like() | Create array filled with ones but take properties like shape and data type from another existing array\n",
    "np.zeros_like() | Create array filled with zeros but take properties like shape and data type from another existing array\n",
    "np.empty_like() | Array of uninitialized (arbitrary) that take properties like shape and data type from another existing array"
   ]
  },
  {
   "cell_type": "code",
   "execution_count": 21,
   "id": "transsexual-evidence",
   "metadata": {},
   "outputs": [],
   "source": [
    "arr = np.array([[1,2,3],[4,5,6],[7,8,9],[10,11,12]], dtype = np.int32)"
   ]
  },
  {
   "cell_type": "code",
   "execution_count": 22,
   "id": "unnecessary-disorder",
   "metadata": {},
   "outputs": [
    {
     "data": {
      "text/plain": [
       "(array([[ 1,  2,  3],\n",
       "        [ 4,  5,  6],\n",
       "        [ 7,  8,  9],\n",
       "        [10, 11, 12]]),\n",
       " 'the shape is: (4, 3) the type is int32')"
      ]
     },
     "execution_count": 22,
     "metadata": {},
     "output_type": "execute_result"
    }
   ],
   "source": [
    "arr, f\"the shape is: {arr.shape} the type is {arr.dtype}\""
   ]
  },
  {
   "cell_type": "code",
   "execution_count": 23,
   "id": "negative-luxury",
   "metadata": {},
   "outputs": [
    {
     "data": {
      "text/plain": [
       "array([[1, 1, 1],\n",
       "       [1, 1, 1],\n",
       "       [1, 1, 1],\n",
       "       [1, 1, 1]])"
      ]
     },
     "execution_count": 23,
     "metadata": {},
     "output_type": "execute_result"
    }
   ],
   "source": [
    "# Array filled with ones and properties from arr above\n",
    "np.ones_like(arr)"
   ]
  },
  {
   "cell_type": "code",
   "execution_count": 24,
   "id": "employed-traffic",
   "metadata": {},
   "outputs": [
    {
     "data": {
      "text/plain": [
       "array([[0, 0, 0],\n",
       "       [0, 0, 0],\n",
       "       [0, 0, 0],\n",
       "       [0, 0, 0]])"
      ]
     },
     "execution_count": 24,
     "metadata": {},
     "output_type": "execute_result"
    }
   ],
   "source": [
    "# Array filled with zeros and properties from arr above\n",
    "np.zeros_like(arr)"
   ]
  },
  {
   "cell_type": "code",
   "execution_count": 25,
   "id": "broadband-freedom",
   "metadata": {},
   "outputs": [
    {
     "data": {
      "text/plain": [
       "array([[0, 0, 0],\n",
       "       [0, 0, 0],\n",
       "       [0, 0, 0],\n",
       "       [0, 0, 0]])"
      ]
     },
     "execution_count": 25,
     "metadata": {},
     "output_type": "execute_result"
    }
   ],
   "source": [
    "# Array of uninitialized (arbitrary) that take properties from arr\n",
    "np.empty_like(arr)"
   ]
  },
  {
   "cell_type": "markdown",
   "id": "apparent-opinion",
   "metadata": {},
   "source": [
    "#### Matrix array\n",
    "Function | Description \n",
    ":-|:-\n",
    "np.identity(n, dtype) | Return the identity array, with ones on the diagonaland zeros elsewhere\n",
    "np.eye(N, M, k) | Return a 2-D array with ones on the diagonal and zeros elsewhere (N= number of rows, M= Number of columns, K=diagonal offset)\n",
    "np.diag(v, k=0) | Return an identity matrix array specified diagonals"
   ]
  },
  {
   "cell_type": "code",
   "execution_count": 26,
   "id": "herbal-teach",
   "metadata": {},
   "outputs": [
    {
     "data": {
      "text/plain": [
       "array([[1., 0., 0., 0., 0.],\n",
       "       [0., 1., 0., 0., 0.],\n",
       "       [0., 0., 1., 0., 0.],\n",
       "       [0., 0., 0., 1., 0.],\n",
       "       [0., 0., 0., 0., 1.]])"
      ]
     },
     "execution_count": 26,
     "metadata": {},
     "output_type": "execute_result"
    }
   ],
   "source": [
    "# Identity 5x5  matrix array\n",
    "np.identity(5)"
   ]
  },
  {
   "cell_type": "code",
   "execution_count": 27,
   "id": "negative-support",
   "metadata": {},
   "outputs": [
    {
     "data": {
      "text/plain": [
       "array([[0., 1., 0., 0.],\n",
       "       [0., 0., 1., 0.],\n",
       "       [0., 0., 0., 1.],\n",
       "       [0., 0., 0., 0.]])"
      ]
     },
     "execution_count": 27,
     "metadata": {},
     "output_type": "execute_result"
    }
   ],
   "source": [
    "# 4X4 two dimensional array with positive +1 offest from the diagonal\n",
    "np.eye(4,4,1)"
   ]
  },
  {
   "cell_type": "code",
   "execution_count": 28,
   "id": "constant-distribution",
   "metadata": {},
   "outputs": [
    {
     "data": {
      "text/plain": [
       "array([[ 5,  0,  0,  0],\n",
       "       [ 0, 10,  0,  0],\n",
       "       [ 0,  0, 15,  0],\n",
       "       [ 0,  0,  0, 20]])"
      ]
     },
     "execution_count": 28,
     "metadata": {},
     "output_type": "execute_result"
    }
   ],
   "source": [
    "# 4X4 array with custimized diagonal\n",
    "np.diag([5,10,15,20])"
   ]
  },
  {
   "cell_type": "markdown",
   "id": "perceived-nigeria",
   "metadata": {},
   "source": [
    "#### Random Values\n",
    "Function | Description \n",
    ":-|:-\n",
    "np.random.randint(low, high, size) | Return the size of random integers from `low` (inclusive) to `high` (exclusive)\n",
    "np.random.randn(n) | Return n sample (or samples) from the \"standard normal\" distribution.\n",
    "np.random.rand(dn) | Return  Random valuesfrom a uniform distribution in a shape(dn)"
   ]
  },
  {
   "cell_type": "code",
   "execution_count": 29,
   "id": "flexible-japan",
   "metadata": {},
   "outputs": [
    {
     "data": {
      "text/plain": [
       "array([44, 27, 25, 44, 42, 34, 46, 11, 11, 12, 44, 46, 46, 32, 47, 32, 35,\n",
       "       17, 27, 40])"
      ]
     },
     "execution_count": 29,
     "metadata": {},
     "output_type": "execute_result"
    }
   ],
   "source": [
    "# Array of 20 random over the interval of 10 and 50 \n",
    "np.random.randint(10,50,20)"
   ]
  },
  {
   "cell_type": "code",
   "execution_count": 30,
   "id": "vietnamese-bench",
   "metadata": {},
   "outputs": [
    {
     "data": {
      "text/plain": [
       "array([[ 1.39158718, -0.17292201,  1.66576022],\n",
       "       [ 0.54117253,  0.60456157,  0.91619894],\n",
       "       [-1.75675483,  1.66019638, -0.26403986],\n",
       "       [ 1.07384567,  0.33943164, -0.62917311]])"
      ]
     },
     "execution_count": 30,
     "metadata": {},
     "output_type": "execute_result"
    }
   ],
   "source": [
    "# Array of 4x3 randomly generated numbers from standard normal distribution\n",
    "np.random.randn(4,3)"
   ]
  },
  {
   "cell_type": "code",
   "execution_count": 31,
   "id": "minute-salad",
   "metadata": {},
   "outputs": [
    {
     "data": {
      "text/plain": [
       "array([[0.49041333, 0.53211559, 0.26141302],\n",
       "       [0.77731015, 0.33850216, 0.68792268]])"
      ]
     },
     "execution_count": 31,
     "metadata": {},
     "output_type": "execute_result"
    }
   ],
   "source": [
    "# Array of 2x3 randomly generated numbers from uniform distribution\n",
    "np.random.rand(2,3)"
   ]
  },
  {
   "cell_type": "markdown",
   "id": "south-motor",
   "metadata": {},
   "source": [
    "#### From Files and Function\n",
    "Function | Description \n",
    ":-|:-\n",
    "np.fromfile(file, dtype=float) | Construct an array from data in a text or binary file\n",
    "np.loadtxt(fname,delimiter) | Load data from a text file\n",
    "np.genfromtxt(fname,delimiter) | Load data from a text file, with missing values handled as specified.\n",
    "np.fromfunction(function, shape) | Construct an array by executing a function over each coordinat"
   ]
  },
  {
   "cell_type": "code",
   "execution_count": 32,
   "id": "adjacent-herald",
   "metadata": {},
   "outputs": [
    {
     "data": {
      "text/plain": [
       "(array([[0., 0., 0., 0., 0.],\n",
       "        [2., 2., 2., 2., 2.],\n",
       "        [4., 4., 4., 4., 4.],\n",
       "        [6., 6., 6., 6., 6.]]),\n",
       " array([[0., 2., 4., 6., 8.],\n",
       "        [0., 2., 4., 6., 8.],\n",
       "        [0., 2., 4., 6., 8.],\n",
       "        [0., 2., 4., 6., 8.]]))"
      ]
     },
     "execution_count": 32,
     "metadata": {},
     "output_type": "execute_result"
    }
   ],
   "source": [
    "# Array created from a function where i controls the rows and j controls the columns\n",
    "np.fromfunction(lambda i,j: (i*2,j*2),(4,5))"
   ]
  }
 ],
 "metadata": {
  "kernelspec": {
   "display_name": "Python 3",
   "language": "python",
   "name": "python3"
  },
  "language_info": {
   "codemirror_mode": {
    "name": "ipython",
    "version": 3
   },
   "file_extension": ".py",
   "mimetype": "text/x-python",
   "name": "python",
   "nbconvert_exporter": "python",
   "pygments_lexer": "ipython3",
   "version": "3.8.8"
  }
 },
 "nbformat": 4,
 "nbformat_minor": 5
}
